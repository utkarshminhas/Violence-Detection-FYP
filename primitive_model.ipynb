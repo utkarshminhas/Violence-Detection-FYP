{
  "nbformat": 4,
  "nbformat_minor": 0,
  "metadata": {
    "colab": {
      "name": "HelloWorld.ipynb",
      "provenance": [],
      "collapsed_sections": [],
      "include_colab_link": true
    },
    "kernelspec": {
      "name": "python3",
      "display_name": "Python 3"
    }
  },
  "cells": [
    {
      "cell_type": "markdown",
      "metadata": {
        "id": "view-in-github",
        "colab_type": "text"
      },
      "source": [
        "<a href=\"https://colab.research.google.com/github/utkarshminhas/Violence-Detection-FYP/blob/main/primitive_model.ipynb\" target=\"_parent\"><img src=\"https://colab.research.google.com/assets/colab-badge.svg\" alt=\"Open In Colab\"/></a>"
      ]
    },
    {
      "cell_type": "markdown",
      "metadata": {
        "id": "wlsLdrRXyLdW"
      },
      "source": [
        "# Import packages"
      ]
    },
    {
      "cell_type": "code",
      "metadata": {
        "id": "3ssFgF4FCWWH"
      },
      "source": [
        "import cv2     # for capturing videos\r\n",
        "import math   # for mathematical operations\r\n",
        "import matplotlib.pyplot as plt    # for plotting the images\r\n",
        "%matplotlib inline\r\n",
        "import pandas as pd\r\n",
        "from keras.preprocessing import image   # for preprocessing the images\r\n",
        "import numpy as np    # for mathematical operations\r\n",
        "from keras.utils import np_utils\r\n",
        "from skimage.transform import resize   # for resizing images\r\n",
        "from sklearn.model_selection import train_test_split\r\n",
        "from glob import glob\r\n",
        "from tqdm import tqdm"
      ],
      "execution_count": 1,
      "outputs": []
    }
  ]
}