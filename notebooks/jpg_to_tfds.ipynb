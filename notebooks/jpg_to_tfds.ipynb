{
  "nbformat": 4,
  "nbformat_minor": 0,
  "metadata": {
    "colab": {
      "name": "jpg_to_tfds.ipynb",
      "provenance": [],
      "collapsed_sections": [],
      "include_colab_link": true
    },
    "kernelspec": {
      "name": "python3",
      "display_name": "Python 3"
    }
  },
  "cells": [
    {
      "cell_type": "markdown",
      "metadata": {
        "id": "view-in-github",
        "colab_type": "text"
      },
      "source": [
        "<a href=\"https://colab.research.google.com/github/utkarshminhas/violence-detection-fyp/blob/main/notebooks/jpg_to_tfds.ipynb\" target=\"_parent\"><img src=\"https://colab.research.google.com/assets/colab-badge.svg\" alt=\"Open In Colab\"/></a>"
      ]
    },
    {
      "cell_type": "code",
      "metadata": {
        "id": "nWdr3wneARzX"
      },
      "source": [
        "import os\r\n",
        "import cv2\r\n",
        "import matplotlib.pyplot as plt\r\n",
        "from google.colab.patches import cv2_imshow\r\n",
        "from tqdm import tqdm\r\n",
        "import numpy as np\r\n",
        "import tensorflow as tf\r\n",
        "import random\r\n",
        "from glob import glob"
      ],
      "execution_count": 1,
      "outputs": []
    },
    {
      "cell_type": "code",
      "metadata": {
        "colab": {
          "base_uri": "https://localhost:8080/"
        },
        "id": "1XdKjUzsulXw",
        "outputId": "6324ff18-0838-46e4-d938-d0c1f7bae3f3"
      },
      "source": [
        "from google.colab import drive\n",
        "drive.mount('/content/drive')"
      ],
      "execution_count": 2,
      "outputs": [
        {
          "output_type": "stream",
          "text": [
            "Drive already mounted at /content/drive; to attempt to forcibly remount, call drive.mount(\"/content/drive\", force_remount=True).\n"
          ],
          "name": "stdout"
        }
      ]
    },
    {
      "cell_type": "code",
      "metadata": {
        "colab": {
          "base_uri": "https://localhost:8080/"
        },
        "id": "WQbOy1TAAlYv",
        "outputId": "12b1a557-4705-432c-a13b-287d286f7081"
      },
      "source": [
        "processed_dir = '/content/drive/Shareddrives/Datasets/Raw RWF-2000 (without_mog)'\r\n",
        "print(len(os.listdir(processed_dir)))\r\n",
        "print(len(os.listdir(processed_dir+\"/Fight\")))\r\n",
        "print(len(os.listdir(processed_dir+'/NonFight')))"
      ],
      "execution_count": 3,
      "outputs": [
        {
          "output_type": "stream",
          "text": [
            "2\n",
            "1000\n",
            "1000\n"
          ],
          "name": "stdout"
        }
      ]
    },
    {
      "cell_type": "code",
      "metadata": {
        "id": "MyrVDnHqA2lF"
      },
      "source": [
        "image_size = (299, 299)\r\n",
        "\r\n",
        "# label_to_int = {\r\n",
        "#     'Fight': [1,0],\r\n",
        "#     'NonFight': [0,1]\r\n",
        "# }\r\n",
        "\r\n",
        "# fight = label_to_int.get('Fight')\r\n",
        "# nonfight = label_to_int.get('NonFight')\r\n",
        "\r\n",
        "nonFight, fight = ([0, 1], [1, 0])"
      ],
      "execution_count": 4,
      "outputs": []
    },
    {
      "cell_type": "code",
      "metadata": {
        "id": "HC5HYDOmBbt7"
      },
      "source": [
        "# def load_initial_data():\r\n",
        "#     labels = []\r\n",
        "#     allImages = sorted(glob(os.path.join(processed_dir, \"*/*/*.*\")))\r\n",
        "#     for name in allImages: \r\n",
        "#         # print(name)\r\n",
        "#         if name.find('NonFight') != -1:\r\n",
        "#             labels.append(nonFight)\r\n",
        "#         else:\r\n",
        "#             labels.append(fight)\r\n",
        "#     return allImages, labels"
      ],
      "execution_count": 5,
      "outputs": []
    },
    {
      "cell_type": "code",
      "metadata": {
        "id": "LXlF5wY_0iVL"
      },
      "source": [
        "def load_initial_data():\r\n",
        "    x = []\r\n",
        "    y = []\r\n",
        "\r\n",
        "    # Fights\r\n",
        "    allFights = sorted(glob(os.path.join(processed_dir, 'Fight/*')))\r\n",
        "    x.extend(allFights)\r\n",
        "    y.extend([fight] * len(allFights))\r\n",
        "\r\n",
        "    # Non Fights\r\n",
        "    allNonFights = sorted(glob(os.path.join(processed_dir, 'NonFight/*')))\r\n",
        "    x.extend(allNonFights)\r\n",
        "    y.extend([nonFight] * len(allNonFights))\r\n",
        "\r\n",
        "    return x, y"
      ],
      "execution_count": 6,
      "outputs": []
    },
    {
      "cell_type": "code",
      "metadata": {
        "id": "eLqymsN0Jf4H"
      },
      "source": [
        "videoPaths, labels = load_initial_data()"
      ],
      "execution_count": 7,
      "outputs": []
    },
    {
      "cell_type": "code",
      "metadata": {
        "id": "Lp8K4JtgGNkw"
      },
      "source": [
        "# s = imagePaths[0].split('/')\r\n",
        "# video_name = s[7]\r\n",
        "# current_label = ''\r\n",
        "# for i in imagePaths:\r\n",
        "#     global current_label\r\n",
        "#     l = i.split('/')\r\n",
        "#     if l[6] != current_label:\r\n",
        "#         current_label = l[6]\r\n",
        "#         print('Starting Index:', imagePaths.index(i), current_label)\r\n",
        "#     if l[7] != video_name:\r\n",
        "#         video_name = l[7]\r\n",
        "#         # print(video_name)"
      ],
      "execution_count": 8,
      "outputs": []
    },
    {
      "cell_type": "code",
      "metadata": {
        "id": "AtSV1KX9HTkK"
      },
      "source": [
        "# print(f\"Images: {len(imagePaths)} - Labels: {len(labels)}\",end=\"\\n\\n\")\r\n",
        "\r\n",
        "# isFight = [i for i, x in enumerate(labels) if x == fight]\r\n",
        "\r\n",
        "# print(\"Fight Images ->\",isFight[0],isFight[-1],len(isFight))\r\n",
        "# print(imagePaths[0])\r\n",
        "# print(imagePaths[29999],end=\"\\n\\n\")\r\n",
        "\r\n",
        "# print(\"NonFight\")\r\n",
        "# print(imagePaths[30000])\r\n",
        "# print(imagePaths[-1])"
      ],
      "execution_count": 9,
      "outputs": []
    },
    {
      "cell_type": "code",
      "metadata": {
        "id": "sAqYJuF0Lf9u"
      },
      "source": [
        "def get_image(imagePath):\r\n",
        "    img = cv2.imread(imagePath, cv2.IMREAD_COLOR) # Read in RGB  directly\r\n",
        "    img = cv2.resize(img, image_size)\r\n",
        "    img = img / 255.0\r\n",
        "    img = img.astype(np.float32)\r\n",
        "    return img"
      ],
      "execution_count": 10,
      "outputs": []
    },
    {
      "cell_type": "code",
      "metadata": {
        "id": "2ue-x49BLgWS"
      },
      "source": [
        "def preprocess(videoPath, label):\r\n",
        "    def myFunction(videoPath):\r\n",
        "        videoPath = videoPath.decode()\r\n",
        "        frames = []\r\n",
        "        for frame_path in glob(os.path.join(videoPath, '*')):\r\n",
        "            image = get_image(frame_path)\r\n",
        "            frames.append(image)\r\n",
        "        return np.asarray(frames)\r\n",
        "    video = tf.numpy_function(myFunction, [videoPath], [tf.float32])[0]\r\n",
        "    print(video.shape)\r\n",
        "    return video, label"
      ],
      "execution_count": 11,
      "outputs": []
    },
    {
      "cell_type": "code",
      "metadata": {
        "id": "vxbT8ZO1KuBB"
      },
      "source": [
        "def tf_dataset(videoPaths, labels, batch_size=5):\r\n",
        "    dataset = tf.data.Dataset.from_tensor_slices((videoPaths, labels))\r\n",
        "    dataset = dataset.map(preprocess)\r\n",
        "    dataset = dataset.batch(batch_size)\r\n",
        "    return dataset"
      ],
      "execution_count": 12,
      "outputs": []
    },
    {
      "cell_type": "code",
      "metadata": {
        "id": "-0MkNKLFBAke"
      },
      "source": [
        "# %load_ext autotime"
      ],
      "execution_count": 13,
      "outputs": []
    },
    {
      "cell_type": "code",
      "metadata": {
        "id": "APNZMmChJ-9O",
        "colab": {
          "base_uri": "https://localhost:8080/"
        },
        "outputId": "29ba0565-92eb-4ea3-bf55-737529780885"
      },
      "source": [
        "dataset = tf_dataset(videoPaths, labels, batch_size=2)"
      ],
      "execution_count": 14,
      "outputs": [
        {
          "output_type": "stream",
          "text": [
            "<unknown>\n"
          ],
          "name": "stdout"
        }
      ]
    },
    {
      "cell_type": "code",
      "metadata": {
        "id": "b3OYBjJmPZ2a",
        "colab": {
          "base_uri": "https://localhost:8080/"
        },
        "outputId": "c60f761d-a723-4af0-9074-49aa6bad9d19"
      },
      "source": [
        "# dataset.__len__()\r\n",
        "print(len(dataset))"
      ],
      "execution_count": 15,
      "outputs": [
        {
          "output_type": "stream",
          "text": [
            "1000\n"
          ],
          "name": "stdout"
        }
      ]
    },
    {
      "cell_type": "code",
      "metadata": {
        "id": "AYs40InHJrCg",
        "colab": {
          "base_uri": "https://localhost:8080/",
          "height": 426
        },
        "outputId": "56f39f55-bd62-41c6-c9f6-692b12c21e3a"
      },
      "source": [
        "for x, y in dataset:\r\n",
        "    x = x.numpy()\r\n",
        "    y = y.numpy()\r\n",
        "    print(\"One Batch is:\", x.shape, y.shape)\r\n",
        "    x = x[0] \r\n",
        "    y = y[0]\r\n",
        "    print(\"One video is:\", x.shape, y.shape, end=\"\\n\\n\")\r\n",
        "    x = x[0] \r\n",
        "    # y = y[0]\r\n",
        "    print(\"One image is:\", x.shape, y.shape, end=\"\\n\\n\")\r\n",
        "    x *= 255\r\n",
        "    print(y)\r\n",
        "    cv2_imshow(x)\r\n",
        "    break"
      ],
      "execution_count": 16,
      "outputs": [
        {
          "output_type": "stream",
          "text": [
            "One Batch is: (2, 30, 299, 299, 3) (2, 2)\n",
            "One video is: (30, 299, 299, 3) (2,)\n",
            "\n",
            "One image is: (299, 299, 3) (2,)\n",
            "\n",
            "[1 0]\n"
          ],
          "name": "stdout"
        },
        {
          "output_type": "display_data",
          "data": {
            "image/png": "[encoded data removed]",
            "text/plain": [
              "<PIL.Image.Image image mode=RGB size=299x299 at 0x7F069E405B00>"
            ]
          },
          "metadata": {
            "tags": []
          }
        }
      ]
    },
    {
      "cell_type": "code",
      "metadata": {
        "id": "sSBERMjVKG9p"
      },
      "source": [
        "# Shuffle\r\n",
        "dataset.shuffle(40, reshuffle_each_iteration=True)\r\n",
        "\r\n",
        "dataset_size = int(len(dataset) * 0.8)\r\n",
        "\r\n",
        "# total video = 2000\r\n",
        "# batch size = 5\r\n",
        "# total batches = 400\r\n",
        "# total batches\r\n",
        "\r\n",
        "train_dataset = dataset.take(dataset_size) \r\n",
        "test_dataset = dataset.skip(dataset_size)"
      ],
      "execution_count": 17,
      "outputs": []
    },
    {
      "cell_type": "code",
      "metadata": {
        "id": "N6E6-fD3TJrD",
        "colab": {
          "base_uri": "https://localhost:8080/"
        },
        "outputId": "cd9ed582-1a91-444f-9061-c9b55b4ba12b"
      },
      "source": [
        "for _, y in train_dataset:\r\n",
        "    y = y.numpy()\r\n",
        "    # print(\"One Batch is:\", y.shape)\r\n",
        "    y = y[0]\r\n",
        "    # print(\"One video is:\", y.shape, end=\"\\n\\n\")\r\n",
        "    print(y)\r\n",
        "    break"
      ],
      "execution_count": 18,
      "outputs": [
        {
          "output_type": "stream",
          "text": [
            "[1 0]\n"
          ],
          "name": "stdout"
        }
      ]
    },
    {
      "cell_type": "code",
      "metadata": {
        "id": "x3AWDohMRIaS",
        "colab": {
          "base_uri": "https://localhost:8080/"
        },
        "outputId": "e404ef3e-72d4-46c5-dba0-2d39eefaea69"
      },
      "source": [
        "!pip install tensorflow_addons"
      ],
      "execution_count": 19,
      "outputs": [
        {
          "output_type": "stream",
          "text": [
            "Requirement already satisfied: tensorflow_addons in /usr/local/lib/python3.6/dist-packages (0.12.1)\n",
            "Requirement already satisfied: typeguard>=2.7 in /usr/local/lib/python3.6/dist-packages (from tensorflow_addons) (2.7.1)\n"
          ],
          "name": "stdout"
        }
      ]
    },
    {
      "cell_type": "code",
      "metadata": {
        "id": "7fvbfka8QoCD"
      },
      "source": [
        "from tensorflow.keras import layers\r\n",
        "import numpy as np\r\n",
        "from keras.layers import TimeDistributed, Conv2D, Dense, MaxPooling2D, \\\r\n",
        "Flatten, LSTM, Dropout, BatchNormalization\r\n",
        "from keras import models\r\n",
        "import itertools\r\n",
        "\r\n",
        "import keras\r\n",
        "from keras import optimizers\r\n",
        "# import tensorflow_addons as tfa\r\n",
        "\r\n",
        "import datetime"
      ],
      "execution_count": 20,
      "outputs": []
    },
    {
      "cell_type": "code",
      "metadata": {
        "id": "hgg99JBUQuVs",
        "colab": {
          "base_uri": "https://localhost:8080/"
        },
        "outputId": "8d689fa0-c512-409c-972c-df232ba3294b"
      },
      "source": [
        "input_shape = (30, image_size[0], image_size[1], 3)\r\n",
        "num_epochs = 5\r\n",
        "print(input_shape)"
      ],
      "execution_count": 21,
      "outputs": [
        {
          "output_type": "stream",
          "text": [
            "(30, 299, 299, 3)\n"
          ],
          "name": "stdout"
        }
      ]
    },
    {
      "cell_type": "code",
      "metadata": {
        "id": "gSl2HqihQ-DJ",
        "colab": {
          "base_uri": "https://localhost:8080/"
        },
        "outputId": "37f4160c-3b1c-4ece-efe6-aa7b45017468"
      },
      "source": [
        "# strategy= tf.distribute.MultiWorkerMirroredStrategy()\r\n",
        "\r\n",
        "# with strategy.scope():\r\n",
        "model = models.Sequential(\r\n",
        "    [\r\n",
        "        TimeDistributed(\r\n",
        "            Conv2D(32, (3, 3), activation=tf.nn.relu), \r\n",
        "            input_shape=input_shape\r\n",
        "        ),\r\n",
        "        TimeDistributed(MaxPooling2D((2, 2), strides=(1, 1))),\r\n",
        "        TimeDistributed(Conv2D(32, (4, 4), activation=tf.nn.relu)),\r\n",
        "        TimeDistributed(MaxPooling2D((2, 2), strides=(2, 2))),\r\n",
        "        TimeDistributed(Conv2D(32, (4, 4), activation=tf.nn.relu)),\r\n",
        "        TimeDistributed(MaxPooling2D((2, 2), strides=(2, 2))),\r\n",
        "        TimeDistributed(Flatten()),\r\n",
        "        Dropout(0.6),\r\n",
        "        LSTM(256, return_sequences=False, dropout=0.5, input_shape=input_shape),\r\n",
        "        Dropout(0.7),\r\n",
        "        Flatten(),\r\n",
        "        Dense(64, activation=tf.nn.relu),\r\n",
        "        Dense(32, activation=tf.nn.relu),\r\n",
        "        Dense(2, activation=tf.nn.softmax)\r\n",
        "    ]\r\n",
        ")\r\n",
        "\r\n",
        "model.summary()"
      ],
      "execution_count": 22,
      "outputs": [
        {
          "output_type": "stream",
          "text": [
            "Model: \"sequential\"\n",
            "_________________________________________________________________\n",
            "Layer (type)                 Output Shape              Param #   \n",
            "=================================================================\n",
            "time_distributed (TimeDistri (None, 30, 297, 297, 32)  896       \n",
            "_________________________________________________________________\n",
            "time_distributed_1 (TimeDist (None, 30, 296, 296, 32)  0         \n",
            "_________________________________________________________________\n",
            "time_distributed_2 (TimeDist (None, 30, 293, 293, 32)  16416     \n",
            "_________________________________________________________________\n",
            "time_distributed_3 (TimeDist (None, 30, 146, 146, 32)  0         \n",
            "_________________________________________________________________\n",
            "time_distributed_4 (TimeDist (None, 30, 143, 143, 32)  16416     \n",
            "_________________________________________________________________\n",
            "time_distributed_5 (TimeDist (None, 30, 71, 71, 32)    0         \n",
            "_________________________________________________________________\n",
            "time_distributed_6 (TimeDist (None, 30, 161312)        0         \n",
            "_________________________________________________________________\n",
            "dropout (Dropout)            (None, 30, 161312)        0         \n",
            "_________________________________________________________________\n",
            "lstm (LSTM)                  (None, 256)               165446656 \n",
            "_________________________________________________________________\n",
            "dropout_1 (Dropout)          (None, 256)               0         \n",
            "_________________________________________________________________\n",
            "flatten_1 (Flatten)          (None, 256)               0         \n",
            "_________________________________________________________________\n",
            "dense (Dense)                (None, 64)                16448     \n",
            "_________________________________________________________________\n",
            "dense_1 (Dense)              (None, 32)                2080      \n",
            "_________________________________________________________________\n",
            "dense_2 (Dense)              (None, 2)                 66        \n",
            "=================================================================\n",
            "Total params: 165,498,978\n",
            "Trainable params: 165,498,978\n",
            "Non-trainable params: 0\n",
            "_________________________________________________________________\n"
          ],
          "name": "stdout"
        }
      ]
    },
    {
      "cell_type": "code",
      "metadata": {
        "id": "QTgWKf68RZ31"
      },
      "source": [
        "# tqdm_callback = tfa.callbacks.TQDMProgressBar()\r\n",
        "# model_path = 'cnn_lstm_model.h5'\r\n",
        "# logdir = os.path.join(\"logs\", datetime.datetime.now().strftime(\"%Y%m%d-%H%M%S\"))\r\n",
        "# tensorboard_callback = tf.keras.callbacks.TensorBoard(logdir, histogram_freq=1)\r\n",
        "\r\n",
        "callbacks_list = [\r\n",
        "    # tqdm_callback,\r\n",
        "    # keras.callbacks.EarlyStopping(monitor=['acc'], patience=3),\r\n",
        "    # keras.callbacks.ModelCheckpoint(\r\n",
        "    #     filepath=model_path,\r\n",
        "    #     monitor='val_loss',\r\n",
        "    #     save_best_only=True\r\n",
        "    # ),\r\n",
        "    # tensorboard_callback,\r\n",
        "    # keras.callbacks.ReduceLROnPlateau(\r\n",
        "    #     monitor=\"val_loss\",\r\n",
        "    #     factor=0.1,\r\n",
        "    #     patience=3\r\n",
        "    # )\r\n",
        "]\r\n",
        "\r\n",
        "optimizer = optimizers.Adam()\r\n",
        "\r\n",
        "model.compile(\r\n",
        "    optimizer=optimizer,\r\n",
        "    loss=\"categorical_crossentropy\",\r\n",
        "    metrics=['accuracy']\r\n",
        ")"
      ],
      "execution_count": 23,
      "outputs": []
    },
    {
      "cell_type": "code",
      "metadata": {
        "id": "N9BsH1SsR40u",
        "colab": {
          "base_uri": "https://localhost:8080/"
        },
        "outputId": "63e0a8a5-9f09-4941-f3f2-7abe5a23e41e"
      },
      "source": [
        "# with tf.device('/device:GPU:0'):\r\n",
        "history = model.fit(\r\n",
        "    train_dataset,\r\n",
        "    epochs=num_epochs,\r\n",
        "    steps_per_epoch=len(dataset) / num_epochs,\r\n",
        "    validation_data=test_dataset,\r\n",
        "    validation_steps=len(dataset) / num_epochs,\r\n",
        "    verbose=2\r\n",
        ")"
      ],
      "execution_count": null,
      "outputs": [
        {
          "output_type": "stream",
          "text": [
            "Epoch 1/5\n"
          ],
          "name": "stdout"
        }
      ]
    },
    {
      "cell_type": "code",
      "metadata": {
        "id": "2hRc2ULQYbeI"
      },
      "source": [
        "def myGen():\r\n",
        "  for x,y in dataset:\r\n",
        "    yield x.numpy(),y.numpy()[0]"
      ],
      "execution_count": null,
      "outputs": []
    },
    {
      "cell_type": "code",
      "metadata": {
        "id": "gMdCRy30Bk74"
      },
      "source": [
        "x,y=next(myGen())\r\n",
        "print(x.shape,\"  \",y.shape)\r\n",
        "print(y)"
      ],
      "execution_count": null,
      "outputs": []
    },
    {
      "cell_type": "code",
      "metadata": {
        "id": "d1E_cTkWBmff"
      },
      "source": [
        "ds = tf.data.Dataset.from_generator(myGen,output_signature = (tf.TensorSpec(shape=x.shape, dtype=tf.float32),tf.TensorSpec(shape=y.shape, dtype=tf.int32),))"
      ],
      "execution_count": null,
      "outputs": []
    },
    {
      "cell_type": "code",
      "metadata": {
        "id": "zbqox-69B1O8"
      },
      "source": [
        "batch_size=4 # creates a batch of 4 videos\r\n",
        "ds=ds.batch(batch_size)"
      ],
      "execution_count": null,
      "outputs": []
    },
    {
      "cell_type": "code",
      "metadata": {
        "id": "f9PsVNSmB7Vk"
      },
      "source": [
        "for x,y in ds:\r\n",
        "  x=x.numpy()\r\n",
        "  y=y.numpy()\r\n",
        "  print(x.shape,y.shape)\r\n",
        "  break"
      ],
      "execution_count": null,
      "outputs": []
    },
    {
      "cell_type": "code",
      "metadata": {
        "id": "J3uJ44THDp7r"
      },
      "source": [
        "# We can either use ds to fit the model\r\n",
        "# or we can optimize the \"dataset\" above to give out the \"batch_size\" videos at once "
      ],
      "execution_count": null,
      "outputs": []
    }
  ]
}