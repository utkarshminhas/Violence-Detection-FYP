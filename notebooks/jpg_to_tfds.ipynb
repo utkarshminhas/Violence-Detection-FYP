{
  "nbformat": 4,
  "nbformat_minor": 0,
  "metadata": {
    "colab": {
      "name": "jpg_to_tfds.ipynb",
      "provenance": [],
      "collapsed_sections": [],
      "mount_file_id": "1bGR_yMUT0Shrt5SwSo5SvoaLzfBARIwF",
      "authorship_tag": "ABX9TyOfNPOoIxJsXmOVCNbEWXxE",
      "include_colab_link": true
    },
    "kernelspec": {
      "name": "python3",
      "display_name": "Python 3"
    }
  },
  "cells": [
    {
      "cell_type": "markdown",
      "metadata": {
        "id": "view-in-github",
        "colab_type": "text"
      },
      "source": [
        "<a href=\"https://colab.research.google.com/github/utkarshminhas/violence-detection-fyp/blob/main/notebooks/jpg_to_tfds.ipynb\" target=\"_parent\"><img src=\"https://colab.research.google.com/assets/colab-badge.svg\" alt=\"Open In Colab\"/></a>"
      ]
    },
    {
      "cell_type": "code",
      "metadata": {
        "id": "nWdr3wneARzX"
      },
      "source": [
        "import os\r\n",
        "import cv2\r\n",
        "import matplotlib.pyplot as plt\r\n",
        "from google.colab.patches import cv2_imshow\r\n",
        "from tqdm import tqdm\r\n",
        "import numpy as np\r\n",
        "import tensorflow as tf\r\n",
        "import random\r\n",
        "from glob import glob"
      ],
      "execution_count": 1,
      "outputs": []
    },
    {
      "cell_type": "code",
      "metadata": {
        "id": "6f0CXSzUB4vQ"
      },
      "source": [
        "# %load_ext autotime"
      ],
      "execution_count": 2,
      "outputs": []
    },
    {
      "cell_type": "code",
      "metadata": {
        "colab": {
          "base_uri": "https://localhost:8080/"
        },
        "id": "WQbOy1TAAlYv",
        "outputId": "0a65a2c7-725d-4df0-c85c-b8d204979d2f"
      },
      "source": [
        "processed_dir = '/content/drive/Shareddrives/Datasets/Raw RWF-2000 (without_mog)'\r\n",
        "print(len(os.listdir(processed_dir)))\r\n",
        "print(len(os.listdir(processed_dir+\"/Fight\")))\r\n",
        "print(len(os.listdir(processed_dir+'/NonFight')))"
      ],
      "execution_count": 3,
      "outputs": [
        {
          "output_type": "stream",
          "text": [
            "2\n",
            "1000\n",
            "1000\n"
          ],
          "name": "stdout"
        }
      ]
    },
    {
      "cell_type": "code",
      "metadata": {
        "id": "MyrVDnHqA2lF"
      },
      "source": [
        "image_size = (299, 299)\r\n",
        "\r\n",
        "label_to_int = {\r\n",
        "    # 'Fight': 0,\r\n",
        "    # 'NonFight': 1\r\n",
        "    'Fight': [1,0],\r\n",
        "    'NonFight': [0,1]\r\n",
        "}\r\n",
        "\r\n",
        "fight=[1,0]\r\n",
        "nonFight=[0,1]\r\n",
        "\r\n",
        "batch_size = 1"
      ],
      "execution_count": 4,
      "outputs": []
    },
    {
      "cell_type": "code",
      "metadata": {
        "id": "HC5HYDOmBbt7"
      },
      "source": [
        "def load_initial_data():\r\n",
        "  labels=[]\r\n",
        "  allImages=glob(os.path.join(processed_dir,\"*/*/*.*\"))\r\n",
        "  for name in glob(os.path.join(processed_dir,\"*/*/*.*\")): \r\n",
        "      # print(name)\r\n",
        "      if name.find('NonFight') != -1:\r\n",
        "        labels.append(nonFight)\r\n",
        "      else:\r\n",
        "        labels.append(fight)\r\n",
        "  return allImages,labels"
      ],
      "execution_count": 5,
      "outputs": []
    },
    {
      "cell_type": "code",
      "metadata": {
        "id": "eLqymsN0Jf4H"
      },
      "source": [
        "imagePaths, labels =load_initial_data()"
      ],
      "execution_count": 6,
      "outputs": []
    },
    {
      "cell_type": "code",
      "metadata": {
        "colab": {
          "base_uri": "https://localhost:8080/"
        },
        "id": "AtSV1KX9HTkK",
        "outputId": "34a5633e-7d15-490e-bb65-464be3834f9f"
      },
      "source": [
        "print(f\"Images: {len(imagePaths)} - Labels: {len(labels)}\",end=\"\\n\\n\")\r\n",
        "\r\n",
        "isFight = [i for i, x in enumerate(labels) if x == fight]\r\n",
        "\r\n",
        "print(\"Fight Images ->\",isFight[0],isFight[-1],len(isFight))\r\n",
        "print(imagePaths[0])\r\n",
        "print(imagePaths[29999],end=\"\\n\\n\")\r\n",
        "\r\n",
        "print(\"NonFight\")\r\n",
        "print(imagePaths[30000])\r\n",
        "print(imagePaths[-1])"
      ],
      "execution_count": 7,
      "outputs": [
        {
          "output_type": "stream",
          "text": [
            "Images: 60000 - Labels: 60000\n",
            "\n",
            "Fight Images -> 0 29999 30000\n",
            "/content/drive/Shareddrives/Datasets/Raw RWF-2000 (without_mog)/Fight/Copy of mX4cQM1xMFc_2/frame_000.jpg\n",
            "/content/drive/Shareddrives/Datasets/Raw RWF-2000 (without_mog)/Fight/Copy of RETYTDF_524/frame_029.jpg\n",
            "\n",
            "NonFight\n",
            "/content/drive/Shareddrives/Datasets/Raw RWF-2000 (without_mog)/NonFight/Copy of gNUhUpxZ_0/frame_000.jpg\n",
            "/content/drive/Shareddrives/Datasets/Raw RWF-2000 (without_mog)/NonFight/Copy of r0mVR4J6_0/frame_029.jpg\n"
          ],
          "name": "stdout"
        }
      ]
    },
    {
      "cell_type": "code",
      "metadata": {
        "id": "sAqYJuF0Lf9u"
      },
      "source": [
        "def read_image(imagePath):\r\n",
        "  img = cv2.imread(imagePath, cv2.IMREAD_COLOR)\r\n",
        "  img = cv2.resize(img, image_size)\r\n",
        "  img = img / 255.0\r\n",
        "  img = img.astype(np.float32)\r\n",
        "  return img"
      ],
      "execution_count": 8,
      "outputs": []
    },
    {
      "cell_type": "code",
      "metadata": {
        "id": "2ue-x49BLgWS"
      },
      "source": [
        "def preprocess(imagePath, label):\r\n",
        "  def myFunction(imagePath):\r\n",
        "    imagePath = imagePath.decode()\r\n",
        "    image = read_image(imagePath)\r\n",
        "\r\n",
        "    return image\r\n",
        "\r\n",
        "  image= tf.numpy_function(myFunction, [imagePath], [tf.float32])[0]\r\n",
        "  return image,label"
      ],
      "execution_count": 9,
      "outputs": []
    },
    {
      "cell_type": "code",
      "metadata": {
        "id": "vxbT8ZO1KuBB"
      },
      "source": [
        "def tf_dataset(imagePaths,labels,batch_size=30):\r\n",
        "  dataset = tf.data.Dataset.from_tensor_slices((imagePaths, labels))\r\n",
        "  dataset = dataset.map(preprocess)\r\n",
        "  dataset = dataset.batch(batch_size)\r\n",
        "  return dataset"
      ],
      "execution_count": 10,
      "outputs": []
    },
    {
      "cell_type": "code",
      "metadata": {
        "id": "APNZMmChJ-9O"
      },
      "source": [
        "dataset = tf_dataset(imagePaths, labels)"
      ],
      "execution_count": 11,
      "outputs": []
    },
    {
      "cell_type": "code",
      "metadata": {
        "colab": {
          "base_uri": "https://localhost:8080/"
        },
        "id": "IArBMURUT120",
        "outputId": "b3059f4c-4a11-4c87-80d4-95f9f91f56ed"
      },
      "source": [
        "for x, y in dataset:\r\n",
        "  x = x.numpy()\r\n",
        "  y = y.numpy()\r\n",
        "  print(\"One Batch is:\",x.shape,y.shape)\r\n",
        "\r\n",
        "  # x = x[0] * 255\r\n",
        "  # y = y[0]\r\n",
        "  # print(\"One image is:\",x.shape,y.shape,end=\"\\n\\n\")\r\n",
        "  \r\n",
        "  # print(y)\r\n",
        "  # cv2_imshow(x)\r\n",
        "  break"
      ],
      "execution_count": 22,
      "outputs": [
        {
          "output_type": "stream",
          "text": [
            "One Batch is: (30, 299, 299, 3) (30, 2)\n"
          ],
          "name": "stdout"
        }
      ]
    },
    {
      "cell_type": "code",
      "metadata": {
        "id": "2hRc2ULQYbeI"
      },
      "source": [
        ""
      ],
      "execution_count": null,
      "outputs": []
    }
  ]
}