{
  "nbformat": 4,
  "nbformat_minor": 0,
  "metadata": {
    "colab": {
      "name": "model.ipynb",
      "provenance": [],
      "toc_visible": true,
      "include_colab_link": true
    },
    "kernelspec": {
      "name": "python3",
      "display_name": "Python 3"
    },
    "accelerator": "GPU"
  },
  "cells": [
    {
      "cell_type": "markdown",
      "metadata": {
        "id": "view-in-github",
        "colab_type": "text"
      },
      "source": [
        "<a href=\"https://colab.research.google.com/github/utkarshminhas/violence-detection-fyp/blob/main/notebooks/model.ipynb\" target=\"_parent\"><img src=\"https://colab.research.google.com/assets/colab-badge.svg\" alt=\"Open In Colab\"/></a>"
      ]
    },
    {
      "cell_type": "markdown",
      "metadata": {
        "id": "6WaXICVsuHU6"
      },
      "source": [
        "# Set dataset paths"
      ]
    },
    {
      "cell_type": "code",
      "metadata": {
        "id": "KQEVSs33txCW"
      },
      "source": [
        "processed_dir = '/content/drive/Shareddrives/Datasets/RWF-2000/processed_val_and_test'\r\n",
        "\r\n",
        "# original_train_dir = '/content/drive/Shareddrives/Final Year Project/Datasets/RWF-2000/train'\r\n",
        "# original_val_dir = '/content/drive/Shareddrives/Final Year Project/Datasets/RWF-2000/val'\r\n",
        "\r\n",
        "# processed_train_dir = '/content/drive/Shareddrives/Datasets/RWF-2000_without_mog/processed_train'\r\n",
        "# processed_val_dir = '/content/drive/Shareddrives/Datasets/RWF-2000_without_mog/processed_val_and_test'\r\n",
        "\r\n",
        "# raw_rwf_dir = '/content/drive/Shareddrives/Final Year Project/Datasets/Mini-RWF-2000'\r\n",
        "# processed_rwf_dir = '/content/drive/Shareddrives/Final Year Project/Datasets/Processed'"
      ],
      "execution_count": null,
      "outputs": []
    },
    {
      "cell_type": "code",
      "metadata": {
        "colab": {
          "base_uri": "https://localhost:8080/"
        },
        "id": "lOkF54WTAq2P",
        "outputId": "ff27392c-bc6a-413f-c617-3c034d683d06"
      },
      "source": [
        "from google.colab import drive\n",
        "drive.mount('/content/drive')"
      ],
      "execution_count": 2,
      "outputs": [
        {
          "output_type": "stream",
          "text": [
            "Mounted at /content/drive\n"
          ],
          "name": "stdout"
        }
      ]
    },
    {
      "cell_type": "markdown",
      "metadata": {
        "id": "t87_UH59-lGw"
      },
      "source": [
        "# Export to frames"
      ]
    },
    {
      "cell_type": "code",
      "metadata": {
        "id": "Z01RVcLiA9ra"
      },
      "source": [
        "import os\r\n",
        "import cv2\r\n",
        "import matplotlib.pyplot as plt\r\n",
        "from google.colab.patches import cv2_imshow\r\n",
        "from tqdm import tqdm\r\n",
        "import numpy as np\r\n",
        "import tensorflow as tf\r\n",
        "import random"
      ],
      "execution_count": 21,
      "outputs": []
    },
    {
      "cell_type": "code",
      "metadata": {
        "id": "96SudV8E-kXu"
      },
      "source": [
        "def generate_base_folders(original_dir, processed_dir):\r\n",
        "    if not os.path.exists(processed_dir):\r\n",
        "        os.makedirs(processed_dir)\r\n",
        "\r\n",
        "    categories = os.listdir(original_dir)\r\n",
        "    \r\n",
        "    for category in categories:\r\n",
        "        cur_op_dir = os.path.join(processed_dir, category)\r\n",
        "        if not os.path.exists(cur_op_dir):\r\n",
        "            os.makedirs(cur_op_dir)\r\n",
        "\r\n",
        "def convert_to_frames(original_dir, processed_dir):\r\n",
        "    categories = os.listdir(original_dir)\r\n",
        "\r\n",
        "    for category in tqdm(categories):\r\n",
        "        videos = os.listdir(os.path.join(original_dir, category))\r\n",
        "\r\n",
        "        for video in tqdm(videos, position=0, leave=True):\r\n",
        "            generate_frames(category, video, original_dir, processed_dir)\r\n",
        "\r\n",
        "\r\n",
        "def get_mask(frame):\r\n",
        "    fgbg = cv2.createBackgroundSubtractorMOG2(\r\n",
        "           varThreshold=15,\r\n",
        "       detectShadows=True\r\n",
        "    )\r\n",
        "\r\n",
        "    mog_mask = fgbg.apply(frame)\r\n",
        "    median_blur_mask = cv2.medianBlur(mog_mask, 5)\r\n",
        "    bilateral_filter_mask = cv2.bilateralFilter(median_blur_mask, 9, 75, 75)\r\n",
        "    gaussian_blur_mask = cv2.GaussianBlur(bilateral_filter_mask, (13, 13), 5)\r\n",
        "\r\n",
        "    return gaussian_blur_mask\r\n",
        "\r\n",
        "\r\n",
        "def generate_frames(category, video, original_dir, processed_dir):\r\n",
        "    base_video_name, _ = os.path.splitext(video)\r\n",
        "    video_ip_path = os.path.join(original_dir, category, video)\r\n",
        "    video_op_dir_path = os.path.join(processed_dir, category, base_video_name)\r\n",
        "\r\n",
        "    if not os.path.exists(video_op_dir_path):\r\n",
        "        os.makedirs(video_op_dir_path)\r\n",
        "\r\n",
        "    cap = cv2.VideoCapture(video_ip_path)\r\n",
        "    framerate = int(cap.get(5))\r\n",
        "\r\n",
        "    capture_frequency = 5\r\n",
        "\r\n",
        "    while True:\r\n",
        "        frame_number = int(cap.get(1))\r\n",
        "        success, frame = cap.read()\r\n",
        "\r\n",
        "        if not success or frame is None:\r\n",
        "            break\r\n",
        "\r\n",
        "        masked_frame = get_mask(frame)\r\n",
        "\r\n",
        "        if frame_number % capture_frequency == 1:\r\n",
        "            exporting_frame_number = int(frame_number / capture_frequency)\r\n",
        "            frame_path = os.path.join(video_op_dir_path, \"frame_{0:0=3d}.jpg\".format(exporting_frame_number))\r\n",
        "            cv2.imwrite(frame_path, masked_frame)\r\n",
        "\r\n",
        "        k = cv2.waitKey(30)\r\n",
        "\r\n",
        "        if k == 27 or k == ord('q'):\r\n",
        "            break\r\n",
        "\r\n",
        "    cap.release()\r\n"
      ],
      "execution_count": 5,
      "outputs": []
    },
    {
      "cell_type": "code",
      "metadata": {
        "id": "U7WASpXp65DA"
      },
      "source": [
        "generate_base_folders(original_train_dir, processed_train_dir)\r\n",
        "generate_base_folders(original_val_dir, processed_val_dir)"
      ],
      "execution_count": null,
      "outputs": []
    },
    {
      "cell_type": "code",
      "metadata": {
        "id": "DaJkyokAR8pQ",
        "colab": {
          "base_uri": "https://localhost:8080/"
        },
        "outputId": "f6f3e1b0-16e5-4dcf-ecf8-86def6a41afd"
      },
      "source": [
        "with tf.device('/device:GPU:0'):\r\n",
        "    convert_to_frames(original_train_dir, processed_train_dir)"
      ],
      "execution_count": null,
      "outputs": [
        {
          "output_type": "stream",
          "text": [
            "100%|██████████| 800/800 [1:34:16<00:00,  7.07s/it]\n",
            "100%|██████████| 800/800 [1:08:09<00:00,  5.11s/it]\n",
            "100%|██████████| 2/2 [2:42:26<00:00, 4873.25s/it]\n"
          ],
          "name": "stderr"
        }
      ]
    },
    {
      "cell_type": "code",
      "metadata": {
        "id": "pmbboTSj6zoa",
        "colab": {
          "base_uri": "https://localhost:8080/"
        },
        "outputId": "6cb5ebae-ad8f-4b2b-8155-a80b9657621c"
      },
      "source": [
        "with tf.device('/device:GPU:0'):\r\n",
        "    convert_to_frames(original_val_dir, processed_val_dir)"
      ],
      "execution_count": null,
      "outputs": [
        {
          "output_type": "stream",
          "text": [
            "100%|██████████| 10/10 [01:20<00:00,  8.06s/it]\n",
            "100%|██████████| 10/10 [00:47<00:00,  4.74s/it]\n",
            "100%|██████████| 2/2 [02:08<00:00, 64.00s/it]\n"
          ],
          "name": "stderr"
        }
      ]
    },
    {
      "cell_type": "markdown",
      "metadata": {
        "id": "WGgaCKJM-ssP"
      },
      "source": [
        "# Preprocessing"
      ]
    },
    {
      "cell_type": "code",
      "metadata": {
        "id": "J1sGyGgv-uQn"
      },
      "source": [
        "# lalalal"
      ],
      "execution_count": null,
      "outputs": []
    },
    {
      "cell_type": "markdown",
      "metadata": {
        "id": "3PjHXArg-qNm"
      },
      "source": [
        "# Model"
      ]
    },
    {
      "cell_type": "markdown",
      "metadata": {
        "id": "G5qQdjfjq6Y3"
      },
      "source": [
        "## Some global variables"
      ]
    },
    {
      "cell_type": "code",
      "metadata": {
        "id": "x0jFsPhSq_3p"
      },
      "source": [
        "image_size = (128, 128)\r\n",
        "\r\n",
        "label_to_int = {\r\n",
        "    'Fight': 1,\r\n",
        "    'NonFight': 0\r\n",
        "}\r\n",
        "\r\n",
        "batch_size = 1"
      ],
      "execution_count": 26,
      "outputs": []
    },
    {
      "cell_type": "markdown",
      "metadata": {
        "id": "O1b5E8sDU7f6"
      },
      "source": [
        "## Training and validation generator"
      ]
    },
    {
      "cell_type": "code",
      "metadata": {
        "id": "keaYaQdWU-G3"
      },
      "source": [
        "def preprocess(img):\r\n",
        "    img = cv2.resize(img, image_size)\r\n",
        "    # img = cv2.cvtColor(img, cv2.COLOR_BGR2GRAY)\r\n",
        "    img = img / 255.0\r\n",
        "\r\n",
        "    # temp = img\r\n",
        "    # img = []\r\n",
        "    # for r in range(len(temp)):\r\n",
        "    #     cur_row = []\r\n",
        "    #     for c in range(len(temp[r])):\r\n",
        "    #         cur_row.append([temp[r][c]])\r\n",
        "    #     img.append(cur_row)\r\n",
        "    # img = np.array(img)\r\n",
        "\r\n",
        "    return img\r\n",
        "\r\n",
        "\r\n",
        "def get_data(batch_size, processed_dir):\r\n",
        "    data = []\r\n",
        "    batch = []\r\n",
        "\r\n",
        "    categories = os.listdir(processed_dir)\r\n",
        "\r\n",
        "    for category in categories:\r\n",
        "        videos = os.listdir(os.path.join(processed_dir, category))\r\n",
        "        print(category,len(videos))\r\n",
        "        for video in videos:\r\n",
        "            video_folder_path = os.path.join(processed_dir, category, video)\r\n",
        "            batch.append([video_folder_path, label_to_int.get(category)])\r\n",
        "\r\n",
        "            # If batch size is not a multiple of total number of videos, it will not return it since the if condition will never be satisfied\r\n",
        "            if len(batch) == batch_size:\r\n",
        "                data.append(batch)\r\n",
        "                batch = []\r\n",
        "\r\n",
        "    return data\r\n",
        "\r\n",
        "\r\n",
        "def data_generator(data):\r\n",
        "    for batch in data:\r\n",
        "        x_set = []\r\n",
        "        y_set = []\r\n",
        "\r\n",
        "        for video, category in batch:\r\n",
        "            current_video = []\r\n",
        "\r\n",
        "            frames = os.listdir(video)\r\n",
        "            for frame in frames:\r\n",
        "                frame_path = os.path.join(video, frame)\r\n",
        "                img = cv2.imread(frame_path)\r\n",
        "                img = preprocess(img)\r\n",
        "\r\n",
        "                current_video.append(img)\r\n",
        "\r\n",
        "            x_set.append(current_video)\r\n",
        "            y_set.append([category])\r\n",
        "\r\n",
        "        x_set = np.array(x_set)\r\n",
        "        y_set = np.array(y_set)\r\n",
        "\r\n",
        "        yield (x_set, y_set)"
      ],
      "execution_count": 27,
      "outputs": []
    },
    {
      "cell_type": "markdown",
      "metadata": {
        "id": "vzZLA12iXgaU"
      },
      "source": [
        "# **DO NOT BATCH THE VALIDATION DATA**"
      ]
    },
    {
      "cell_type": "code",
      "metadata": {
        "id": "YHmAfhZk7Jlq",
        "colab": {
          "base_uri": "https://localhost:8080/"
        },
        "outputId": "1c88b16a-c3d2-4b3f-c3a7-fd9a251cbb5b"
      },
      "source": [
        "data = get_data(batch_size, processed_dir)\r\n",
        "\r\n",
        "random.shuffle(data)\r\n",
        "\r\n",
        "splits = (0.6, 0.2, 0.2)\r\n",
        "\r\n",
        "if splits[0] + splits[1] + splits[2] != 1.0:\r\n",
        "    raise Exception('Bhosadike Kya Kar Raha Hai??')\r\n",
        "\r\n",
        "train_data = data[:int(len(data) * splits[0])]\r\n",
        "val_data = data[int(len(data) * splits[0]):int(len(data) * (splits[0] + splits[1]))]\r\n",
        "test_data = data[int(len(data) * (splits[0] + splits[1])):]\r\n",
        "\r\n",
        "print(len(data))\r\n",
        "print(len(train_data))\r\n",
        "print(len(val_data))\r\n",
        "print(len(test_data))\r\n",
        "\r\n",
        "# train_data = get_data(batch_size, processed_train_dir)\r\n",
        "# print(\"\")\r\n",
        "# val_data = get_data(batch_size, processed_val_dir)\r\n",
        "\r\n"
      ],
      "execution_count": 28,
      "outputs": [
        {
          "output_type": "stream",
          "text": [
            "Fight 200\n",
            "NonFight 200\n",
            "400\n",
            "240\n",
            "80\n",
            "80\n"
          ],
          "name": "stdout"
        }
      ]
    },
    {
      "cell_type": "code",
      "metadata": {
        "colab": {
          "base_uri": "https://localhost:8080/"
        },
        "id": "dTl6_8jU8VQZ",
        "outputId": "64d2e719-4c7c-4af2-ead1-d08f66f32edc"
      },
      "source": [
        "print(train_data)"
      ],
      "execution_count": 8,
      "outputs": [
        {
          "output_type": "stream",
          "text": [
            "[[['/content/drive/Shareddrives/Datasets/RWF-2000/processed_val_and_test/Fight/SDFDSSDF_976', 1], ['/content/drive/Shareddrives/Datasets/RWF-2000/processed_val_and_test/Fight/SDFDSSDF_977', 1]], [['/content/drive/Shareddrives/Datasets/RWF-2000/processed_val_and_test/NonFight/2lrARl7utL4_0', 0], ['/content/drive/Shareddrives/Datasets/RWF-2000/processed_val_and_test/NonFight/2lrARl7utL4_1', 0]], [['/content/drive/Shareddrives/Datasets/RWF-2000/processed_val_and_test/NonFight/tf_X7GtOGyE_2', 0], ['/content/drive/Shareddrives/Datasets/RWF-2000/processed_val_and_test/NonFight/tivF4CAg_0', 0]], [['/content/drive/Shareddrives/Datasets/RWF-2000/processed_val_and_test/NonFight/nVdn1krnTCQ_0', 0], ['/content/drive/Shareddrives/Datasets/RWF-2000/processed_val_and_test/NonFight/nVdn1krnTCQ_1', 0]], [['/content/drive/Shareddrives/Datasets/RWF-2000/processed_val_and_test/NonFight/I-QiUMPTWNE_2', 0], ['/content/drive/Shareddrives/Datasets/RWF-2000/processed_val_and_test/NonFight/I3rTHE3L_0', 0]], [['/content/drive/Shareddrives/Datasets/RWF-2000/processed_val_and_test/Fight/39BFeYnbu-I_5', 1], ['/content/drive/Shareddrives/Datasets/RWF-2000/processed_val_and_test/Fight/39BFeYnbu-I_6', 1]], [['/content/drive/Shareddrives/Datasets/RWF-2000/processed_val_and_test/NonFight/EFv961C5RgY_0', 0], ['/content/drive/Shareddrives/Datasets/RWF-2000/processed_val_and_test/NonFight/egQvmVL2_0', 0]], [['/content/drive/Shareddrives/Datasets/RWF-2000/processed_val_and_test/Fight/39BFeYnbu-I_1', 1], ['/content/drive/Shareddrives/Datasets/RWF-2000/processed_val_and_test/Fight/39BFeYnbu-I_2', 1]], [['/content/drive/Shareddrives/Datasets/RWF-2000/processed_val_and_test/Fight/FXC43fACfPc_1', 1], ['/content/drive/Shareddrives/Datasets/RWF-2000/processed_val_and_test/Fight/FXC43fACfPc_2', 1]], [['/content/drive/Shareddrives/Datasets/RWF-2000/processed_val_and_test/NonFight/Assault006_x264_1', 0], ['/content/drive/Shareddrives/Datasets/RWF-2000/processed_val_and_test/NonFight/aZxUVVqk_0', 0]], [['/content/drive/Shareddrives/Datasets/RWF-2000/processed_val_and_test/Fight/6Rl7q_kXYbg_2', 1], ['/content/drive/Shareddrives/Datasets/RWF-2000/processed_val_and_test/Fight/6Rl7q_kXYbg_3', 1]], [['/content/drive/Shareddrives/Datasets/RWF-2000/processed_val_and_test/Fight/etyiEs3j8x8_3', 1], ['/content/drive/Shareddrives/Datasets/RWF-2000/processed_val_and_test/Fight/etyiEs3j8x8_4', 1]], [['/content/drive/Shareddrives/Datasets/RWF-2000/processed_val_and_test/NonFight/tf_X7GtOGyE_0', 0], ['/content/drive/Shareddrives/Datasets/RWF-2000/processed_val_and_test/NonFight/tf_X7GtOGyE_1', 0]], [['/content/drive/Shareddrives/Datasets/RWF-2000/processed_val_and_test/NonFight/6Rl7q_kXYbg_0', 0], ['/content/drive/Shareddrives/Datasets/RWF-2000/processed_val_and_test/NonFight/7emxm3za_0', 0]], [['/content/drive/Shareddrives/Datasets/RWF-2000/processed_val_and_test/NonFight/1MVS2QPWbHc_0', 0], ['/content/drive/Shareddrives/Datasets/RWF-2000/processed_val_and_test/NonFight/1MVS2QPWbHc_1', 0]], [['/content/drive/Shareddrives/Datasets/RWF-2000/processed_val_and_test/NonFight/xV69l7Vj_0', 0], ['/content/drive/Shareddrives/Datasets/RWF-2000/processed_val_and_test/NonFight/y2pGPMqikJg_0', 0]], [['/content/drive/Shareddrives/Datasets/RWF-2000/processed_val_and_test/NonFight/vXGRa5D6_0', 0], ['/content/drive/Shareddrives/Datasets/RWF-2000/processed_val_and_test/NonFight/VzHfmJeI_0', 0]], [['/content/drive/Shareddrives/Datasets/RWF-2000/processed_val_and_test/Fight/FXC43fACfPc_3', 1], ['/content/drive/Shareddrives/Datasets/RWF-2000/processed_val_and_test/Fight/g-qjkePEXQA_0', 1]], [['/content/drive/Shareddrives/Datasets/RWF-2000/processed_val_and_test/NonFight/7gLKFV5voOg_0', 0], ['/content/drive/Shareddrives/Datasets/RWF-2000/processed_val_and_test/NonFight/8m3onRfr_0', 0]], [['/content/drive/Shareddrives/Datasets/RWF-2000/processed_val_and_test/NonFight/K4qpMWJS_0', 0], ['/content/drive/Shareddrives/Datasets/RWF-2000/processed_val_and_test/NonFight/kApoSGPK_0', 0]], [['/content/drive/Shareddrives/Datasets/RWF-2000/processed_val_and_test/NonFight/Wq0BuA8GM84_0', 0], ['/content/drive/Shareddrives/Datasets/RWF-2000/processed_val_and_test/NonFight/Wq0BuA8GM84_1', 0]], [['/content/drive/Shareddrives/Datasets/RWF-2000/processed_val_and_test/NonFight/PNgE-OKjhgU_0', 0], ['/content/drive/Shareddrives/Datasets/RWF-2000/processed_val_and_test/NonFight/PNgE-OKjhgU_1', 0]], [['/content/drive/Shareddrives/Datasets/RWF-2000/processed_val_and_test/NonFight/vDeu44Su_0', 0], ['/content/drive/Shareddrives/Datasets/RWF-2000/processed_val_and_test/NonFight/VF8M3gXp_0', 0]], [['/content/drive/Shareddrives/Datasets/RWF-2000/processed_val_and_test/NonFight/RIXaF_TkLlU_1', 0], ['/content/drive/Shareddrives/Datasets/RWF-2000/processed_val_and_test/NonFight/RIXaF_TkLlU_2', 0]], [['/content/drive/Shareddrives/Datasets/RWF-2000/processed_val_and_test/NonFight/iJ5Q1tar_0', 0], ['/content/drive/Shareddrives/Datasets/RWF-2000/processed_val_and_test/NonFight/IMA4zYs83Lo_0', 0]], [['/content/drive/Shareddrives/Datasets/RWF-2000/processed_val_and_test/NonFight/v4dhdnsxiX4_2', 0], ['/content/drive/Shareddrives/Datasets/RWF-2000/processed_val_and_test/NonFight/vAV3vIGr_0', 0]], [['/content/drive/Shareddrives/Datasets/RWF-2000/processed_val_and_test/NonFight/etyiEs3j8x8_0', 0], ['/content/drive/Shareddrives/Datasets/RWF-2000/processed_val_and_test/NonFight/etyiEs3j8x8_1', 0]], [['/content/drive/Shareddrives/Datasets/RWF-2000/processed_val_and_test/Fight/48J5lk4QcpE_0', 1], ['/content/drive/Shareddrives/Datasets/RWF-2000/processed_val_and_test/Fight/48J5lk4QcpE_1', 1]], [['/content/drive/Shareddrives/Datasets/RWF-2000/processed_val_and_test/Fight/RTHTRS_697', 1], ['/content/drive/Shareddrives/Datasets/RWF-2000/processed_val_and_test/Fight/RTHTRS_698', 1]], [['/content/drive/Shareddrives/Datasets/RWF-2000/processed_val_and_test/NonFight/yN11pFfP_0', 0], ['/content/drive/Shareddrives/Datasets/RWF-2000/processed_val_and_test/NonFight/YukOkfIj_0', 0]], [['/content/drive/Shareddrives/Datasets/RWF-2000/processed_val_and_test/Fight/JECBfnp2ZXc_6', 1], ['/content/drive/Shareddrives/Datasets/RWF-2000/processed_val_and_test/Fight/mwuiYEBdkJs_0', 1]], [['/content/drive/Shareddrives/Datasets/RWF-2000/processed_val_and_test/Fight/trtrhrt_1040', 1], ['/content/drive/Shareddrives/Datasets/RWF-2000/processed_val_and_test/Fight/trtrhrt_1048', 1]], [['/content/drive/Shareddrives/Datasets/RWF-2000/processed_val_and_test/Fight/TYRFDVD_1104', 1], ['/content/drive/Shareddrives/Datasets/RWF-2000/processed_val_and_test/Fight/TYRFDVD_1105', 1]], [['/content/drive/Shareddrives/Datasets/RWF-2000/processed_val_and_test/Fight/nVdn1krnTCQ_0', 1], ['/content/drive/Shareddrives/Datasets/RWF-2000/processed_val_and_test/Fight/nVdn1krnTCQ_1', 1]], [['/content/drive/Shareddrives/Datasets/RWF-2000/processed_val_and_test/NonFight/twBrsDhF_0', 0], ['/content/drive/Shareddrives/Datasets/RWF-2000/processed_val_and_test/NonFight/u-VcErKk6Qs_0', 0]], [['/content/drive/Shareddrives/Datasets/RWF-2000/processed_val_and_test/Fight/JECBfnp2ZXc_4', 1], ['/content/drive/Shareddrives/Datasets/RWF-2000/processed_val_and_test/Fight/JECBfnp2ZXc_5', 1]], [['/content/drive/Shareddrives/Datasets/RWF-2000/processed_val_and_test/Fight/trtrhrt_1049', 1], ['/content/drive/Shareddrives/Datasets/RWF-2000/processed_val_and_test/Fight/trtrhrt_1050', 1]], [['/content/drive/Shareddrives/Datasets/RWF-2000/processed_val_and_test/NonFight/UoS3KEYq_0', 0], ['/content/drive/Shareddrives/Datasets/RWF-2000/processed_val_and_test/NonFight/utRmPckr_0', 0]], [['/content/drive/Shareddrives/Datasets/RWF-2000/processed_val_and_test/NonFight/Fds7C6sp_0', 0], ['/content/drive/Shareddrives/Datasets/RWF-2000/processed_val_and_test/NonFight/fGyFpyjd_0', 0]], [['/content/drive/Shareddrives/Datasets/RWF-2000/processed_val_and_test/Fight/nVdn1krnTCQ_4', 1], ['/content/drive/Shareddrives/Datasets/RWF-2000/processed_val_and_test/Fight/nVdn1krnTCQ_6', 1]], [['/content/drive/Shareddrives/Datasets/RWF-2000/processed_val_and_test/NonFight/1W8hsVvyKt4_0', 0], ['/content/drive/Shareddrives/Datasets/RWF-2000/processed_val_and_test/NonFight/1W8hsVvyKt4_1', 0]], [['/content/drive/Shareddrives/Datasets/RWF-2000/processed_val_and_test/Fight/mwuiYEBdkJs_3', 1], ['/content/drive/Shareddrives/Datasets/RWF-2000/processed_val_and_test/Fight/mwuiYEBdkJs_4', 1]], [['/content/drive/Shareddrives/Datasets/RWF-2000/processed_val_and_test/Fight/Ry5c1PbcIa0_0', 1], ['/content/drive/Shareddrives/Datasets/RWF-2000/processed_val_and_test/Fight/SDFDSSDF_972', 1]], [['/content/drive/Shareddrives/Datasets/RWF-2000/processed_val_and_test/Fight/RTHTRS_717', 1], ['/content/drive/Shareddrives/Datasets/RWF-2000/processed_val_and_test/Fight/RTHTRS_718', 1]], [['/content/drive/Shareddrives/Datasets/RWF-2000/processed_val_and_test/NonFight/ojZVUz7i_0', 0], ['/content/drive/Shareddrives/Datasets/RWF-2000/processed_val_and_test/NonFight/oXeSTCLT_0', 0]], [['/content/drive/Shareddrives/Datasets/RWF-2000/processed_val_and_test/NonFight/9JxNZtUK_0', 0], ['/content/drive/Shareddrives/Datasets/RWF-2000/processed_val_and_test/NonFight/9kly-mpQczg_0', 0]], [['/content/drive/Shareddrives/Datasets/RWF-2000/processed_val_and_test/NonFight/PaTrwJbs_0', 0], ['/content/drive/Shareddrives/Datasets/RWF-2000/processed_val_and_test/NonFight/PL8idmS7_0', 0]], [['/content/drive/Shareddrives/Datasets/RWF-2000/processed_val_and_test/NonFight/BOnEkkm1_0', 0], ['/content/drive/Shareddrives/Datasets/RWF-2000/processed_val_and_test/NonFight/Bp3wCVsS_0', 0]], [['/content/drive/Shareddrives/Datasets/RWF-2000/processed_val_and_test/NonFight/JOMXfA1R_0', 0], ['/content/drive/Shareddrives/Datasets/RWF-2000/processed_val_and_test/NonFight/jpYrguiW_0', 0]], [['/content/drive/Shareddrives/Datasets/RWF-2000/processed_val_and_test/NonFight/66U2c3YMjOI_0', 0], ['/content/drive/Shareddrives/Datasets/RWF-2000/processed_val_and_test/NonFight/66U2c3YMjOI_1', 0]], [['/content/drive/Shareddrives/Datasets/RWF-2000/processed_val_and_test/Fight/nuf-d5GugL0_10', 1], ['/content/drive/Shareddrives/Datasets/RWF-2000/processed_val_and_test/Fight/nuf-d5GugL0_2', 1]], [['/content/drive/Shareddrives/Datasets/RWF-2000/processed_val_and_test/Fight/I-QiUMPTWNE_7', 1], ['/content/drive/Shareddrives/Datasets/RWF-2000/processed_val_and_test/Fight/I-QiUMPTWNE_8', 1]], [['/content/drive/Shareddrives/Datasets/RWF-2000/processed_val_and_test/Fight/tf_X7GtOGyE_1', 1], ['/content/drive/Shareddrives/Datasets/RWF-2000/processed_val_and_test/Fight/tf_X7GtOGyE_2', 1]], [['/content/drive/Shareddrives/Datasets/RWF-2000/processed_val_and_test/Fight/RTHTRS_706', 1], ['/content/drive/Shareddrives/Datasets/RWF-2000/processed_val_and_test/Fight/RTHTRS_707', 1]], [['/content/drive/Shareddrives/Datasets/RWF-2000/processed_val_and_test/Fight/OvDMIkTb4XU_4', 1], ['/content/drive/Shareddrives/Datasets/RWF-2000/processed_val_and_test/Fight/Q0v2MB0b_0', 1]], [['/content/drive/Shareddrives/Datasets/RWF-2000/processed_val_and_test/NonFight/BySljls4_0', 0], ['/content/drive/Shareddrives/Datasets/RWF-2000/processed_val_and_test/NonFight/cpFWuHXF_0', 0]], [['/content/drive/Shareddrives/Datasets/RWF-2000/processed_val_and_test/Fight/TYRFDVD_1106', 1], ['/content/drive/Shareddrives/Datasets/RWF-2000/processed_val_and_test/Fight/TYRFDVD_1109', 1]], [['/content/drive/Shareddrives/Datasets/RWF-2000/processed_val_and_test/NonFight/kMgCk8Ku_0', 0], ['/content/drive/Shareddrives/Datasets/RWF-2000/processed_val_and_test/NonFight/l82NDOvk_0', 0]], [['/content/drive/Shareddrives/Datasets/RWF-2000/processed_val_and_test/Fight/v4dhdnsxiX4_1', 1], ['/content/drive/Shareddrives/Datasets/RWF-2000/processed_val_and_test/Fight/v4dhdnsxiX4_2', 1]], [['/content/drive/Shareddrives/Datasets/RWF-2000/processed_val_and_test/Fight/e5Dmmply_0', 1], ['/content/drive/Shareddrives/Datasets/RWF-2000/processed_val_and_test/Fight/e5Dmmply_1', 1]], [['/content/drive/Shareddrives/Datasets/RWF-2000/processed_val_and_test/Fight/6Rl7q_kXYbg_4', 1], ['/content/drive/Shareddrives/Datasets/RWF-2000/processed_val_and_test/Fight/6Rl7q_kXYbg_5', 1]], [['/content/drive/Shareddrives/Datasets/RWF-2000/processed_val_and_test/NonFight/JECBfnp2ZXc_1', 0], ['/content/drive/Shareddrives/Datasets/RWF-2000/processed_val_and_test/NonFight/JECBfnp2ZXc_2', 0]], [['/content/drive/Shareddrives/Datasets/RWF-2000/processed_val_and_test/NonFight/qFfqTQm0_0', 0], ['/content/drive/Shareddrives/Datasets/RWF-2000/processed_val_and_test/NonFight/Qj3oZsaqNGE_0', 0]], [['/content/drive/Shareddrives/Datasets/RWF-2000/processed_val_and_test/NonFight/w6VytllR_0', 0], ['/content/drive/Shareddrives/Datasets/RWF-2000/processed_val_and_test/NonFight/wMcODEtzJIA_0', 0]], [['/content/drive/Shareddrives/Datasets/RWF-2000/processed_val_and_test/NonFight/fO2vb61DcUk_0', 0], ['/content/drive/Shareddrives/Datasets/RWF-2000/processed_val_and_test/NonFight/fO2vb61DcUk_1', 0]], [['/content/drive/Shareddrives/Datasets/RWF-2000/processed_val_and_test/Fight/7gLKFV5voOg_0', 1], ['/content/drive/Shareddrives/Datasets/RWF-2000/processed_val_and_test/Fight/7gLKFV5voOg_1', 1]], [['/content/drive/Shareddrives/Datasets/RWF-2000/processed_val_and_test/Fight/YDOJvzChqSg_4', 1], ['/content/drive/Shareddrives/Datasets/RWF-2000/processed_val_and_test/Fight/y_vX9FtjLaQ_0', 1]], [['/content/drive/Shareddrives/Datasets/RWF-2000/processed_val_and_test/Fight/1MVS2QPWbHc_5', 1], ['/content/drive/Shareddrives/Datasets/RWF-2000/processed_val_and_test/Fight/39BFeYnbu-I_0', 1]], [['/content/drive/Shareddrives/Datasets/RWF-2000/processed_val_and_test/NonFight/9kly-mpQczg_1', 0], ['/content/drive/Shareddrives/Datasets/RWF-2000/processed_val_and_test/NonFight/A7FCl8G35Cs_0', 0]], [['/content/drive/Shareddrives/Datasets/RWF-2000/processed_val_and_test/NonFight/cw8fPfUL_0', 0], ['/content/drive/Shareddrives/Datasets/RWF-2000/processed_val_and_test/NonFight/DeCoZoey_0', 0]], [['/content/drive/Shareddrives/Datasets/RWF-2000/processed_val_and_test/NonFight/mwuiYEBdkJs_1', 0], ['/content/drive/Shareddrives/Datasets/RWF-2000/processed_val_and_test/NonFight/MxkTo5F-nvU_0', 0]], [['/content/drive/Shareddrives/Datasets/RWF-2000/processed_val_and_test/Fight/Qj3oZsaqNGE_0', 1], ['/content/drive/Shareddrives/Datasets/RWF-2000/processed_val_and_test/Fight/Qj3oZsaqNGE_1', 1]], [['/content/drive/Shareddrives/Datasets/RWF-2000/processed_val_and_test/Fight/RTHTRS_699', 1], ['/content/drive/Shareddrives/Datasets/RWF-2000/processed_val_and_test/Fight/RTHTRS_705', 1]], [['/content/drive/Shareddrives/Datasets/RWF-2000/processed_val_and_test/Fight/RIXaF_TkLlU_4', 1], ['/content/drive/Shareddrives/Datasets/RWF-2000/processed_val_and_test/Fight/RIXaF_TkLlU_5', 1]], [['/content/drive/Shareddrives/Datasets/RWF-2000/processed_val_and_test/NonFight/EB08Cq4t_0', 0], ['/content/drive/Shareddrives/Datasets/RWF-2000/processed_val_and_test/NonFight/eb4Oant1_0', 0]], [['/content/drive/Shareddrives/Datasets/RWF-2000/processed_val_and_test/Fight/RTHTRS_719', 1], ['/content/drive/Shareddrives/Datasets/RWF-2000/processed_val_and_test/Fight/RTHTRS_720', 1]], [['/content/drive/Shareddrives/Datasets/RWF-2000/processed_val_and_test/Fight/YDOJvzChqSg_0', 1], ['/content/drive/Shareddrives/Datasets/RWF-2000/processed_val_and_test/Fight/YDOJvzChqSg_1', 1]], [['/content/drive/Shareddrives/Datasets/RWF-2000/processed_val_and_test/NonFight/nTsOksk7_0', 0], ['/content/drive/Shareddrives/Datasets/RWF-2000/processed_val_and_test/NonFight/nuf-d5GugL0_0', 0]], [['/content/drive/Shareddrives/Datasets/RWF-2000/processed_val_and_test/Fight/etyiEs3j8x8_1', 1], ['/content/drive/Shareddrives/Datasets/RWF-2000/processed_val_and_test/Fight/etyiEs3j8x8_2', 1]], [['/content/drive/Shareddrives/Datasets/RWF-2000/processed_val_and_test/Fight/A7FCl8G35Cs_0', 1], ['/content/drive/Shareddrives/Datasets/RWF-2000/processed_val_and_test/Fight/A7FCl8G35Cs_1', 1]], [['/content/drive/Shareddrives/Datasets/RWF-2000/processed_val_and_test/Fight/39BFeYnbu-I_7', 1], ['/content/drive/Shareddrives/Datasets/RWF-2000/processed_val_and_test/Fight/39BFeYnbu-I_8', 1]], [['/content/drive/Shareddrives/Datasets/RWF-2000/processed_val_and_test/NonFight/e8jli13nLaM_0', 0], ['/content/drive/Shareddrives/Datasets/RWF-2000/processed_val_and_test/NonFight/E9SvEiNt_0', 0]], [['/content/drive/Shareddrives/Datasets/RWF-2000/processed_val_and_test/Fight/g-qjkePEXQA_3', 1], ['/content/drive/Shareddrives/Datasets/RWF-2000/processed_val_and_test/Fight/g6jdqkcdgqk_1', 1]], [['/content/drive/Shareddrives/Datasets/RWF-2000/processed_val_and_test/NonFight/NeyOxUHJ_0', 0], ['/content/drive/Shareddrives/Datasets/RWF-2000/processed_val_and_test/NonFight/ngv36FBY_0', 0]], [['/content/drive/Shareddrives/Datasets/RWF-2000/processed_val_and_test/NonFight/VTOPSZvF_0', 0], ['/content/drive/Shareddrives/Datasets/RWF-2000/processed_val_and_test/NonFight/VVQBImyG_0', 0]], [['/content/drive/Shareddrives/Datasets/RWF-2000/processed_val_and_test/NonFight/4I1DGWsh_0', 0], ['/content/drive/Shareddrives/Datasets/RWF-2000/processed_val_and_test/NonFight/4p2iGvo8_0', 0]], [['/content/drive/Shareddrives/Datasets/RWF-2000/processed_val_and_test/NonFight/LruY67tu_0', 0], ['/content/drive/Shareddrives/Datasets/RWF-2000/processed_val_and_test/NonFight/LtfqEsod_0', 0]], [['/content/drive/Shareddrives/Datasets/RWF-2000/processed_val_and_test/Fight/MxkTo5F-nvU_3', 1], ['/content/drive/Shareddrives/Datasets/RWF-2000/processed_val_and_test/Fight/MxkTo5F-nvU_4', 1]], [['/content/drive/Shareddrives/Datasets/RWF-2000/processed_val_and_test/NonFight/zOqs7Oh9oDM_0', 0], ['/content/drive/Shareddrives/Datasets/RWF-2000/processed_val_and_test/NonFight/zsvJyWXp_0', 0]], [['/content/drive/Shareddrives/Datasets/RWF-2000/processed_val_and_test/Fight/Xcd0v-KhKL4_0', 1], ['/content/drive/Shareddrives/Datasets/RWF-2000/processed_val_and_test/Fight/xDjgfhGt-YA_0', 1]], [['/content/drive/Shareddrives/Datasets/RWF-2000/processed_val_and_test/Fight/48J5lk4QcpE_2', 1], ['/content/drive/Shareddrives/Datasets/RWF-2000/processed_val_and_test/Fight/48J5lk4QcpE_3', 1]], [['/content/drive/Shareddrives/Datasets/RWF-2000/processed_val_and_test/NonFight/etyiEs3j8x8_2', 0], ['/content/drive/Shareddrives/Datasets/RWF-2000/processed_val_and_test/NonFight/F6kgeh23_0', 0]], [['/content/drive/Shareddrives/Datasets/RWF-2000/processed_val_and_test/NonFight/1W8hsVvyKt4_2', 0], ['/content/drive/Shareddrives/Datasets/RWF-2000/processed_val_and_test/NonFight/1W8hsVvyKt4_3', 0]], [['/content/drive/Shareddrives/Datasets/RWF-2000/processed_val_and_test/NonFight/vKUjLaXO_0', 0], ['/content/drive/Shareddrives/Datasets/RWF-2000/processed_val_and_test/NonFight/VtIQbKvy_0', 0]], [['/content/drive/Shareddrives/Datasets/RWF-2000/processed_val_and_test/NonFight/g7fqR4gn_0', 0], ['/content/drive/Shareddrives/Datasets/RWF-2000/processed_val_and_test/NonFight/g8SVNUCm_0', 0]], [['/content/drive/Shareddrives/Datasets/RWF-2000/processed_val_and_test/NonFight/myaBOqJ3_0', 0], ['/content/drive/Shareddrives/Datasets/RWF-2000/processed_val_and_test/NonFight/N8M1mmW9_0', 0]], [['/content/drive/Shareddrives/Datasets/RWF-2000/processed_val_and_test/Fight/SJRnWfHAx_E_4', 1], ['/content/drive/Shareddrives/Datasets/RWF-2000/processed_val_and_test/Fight/tf_X7GtOGyE_0', 1]], [['/content/drive/Shareddrives/Datasets/RWF-2000/processed_val_and_test/NonFight/TP6mtOzL_0', 0], ['/content/drive/Shareddrives/Datasets/RWF-2000/processed_val_and_test/NonFight/tSk5CEXB_0', 0]], [['/content/drive/Shareddrives/Datasets/RWF-2000/processed_val_and_test/NonFight/rtSWit6k_0', 0], ['/content/drive/Shareddrives/Datasets/RWF-2000/processed_val_and_test/NonFight/rwg8hp5X_0', 0]], [['/content/drive/Shareddrives/Datasets/RWF-2000/processed_val_and_test/NonFight/6doZoiaG9PM_2', 0], ['/content/drive/Shareddrives/Datasets/RWF-2000/processed_val_and_test/NonFight/6doZoiaG9PM_3', 0]], [['/content/drive/Shareddrives/Datasets/RWF-2000/processed_val_and_test/Fight/hytjfg_354', 1], ['/content/drive/Shareddrives/Datasets/RWF-2000/processed_val_and_test/Fight/I-QiUMPTWNE_0', 1]], [['/content/drive/Shareddrives/Datasets/RWF-2000/processed_val_and_test/Fight/SDFDSSDF_973', 1], ['/content/drive/Shareddrives/Datasets/RWF-2000/processed_val_and_test/Fight/SDFDSSDF_974', 1]], [['/content/drive/Shareddrives/Datasets/RWF-2000/processed_val_and_test/NonFight/VGKvz9qZ_0', 0], ['/content/drive/Shareddrives/Datasets/RWF-2000/processed_val_and_test/NonFight/VIPpAkyG_0', 0]], [['/content/drive/Shareddrives/Datasets/RWF-2000/processed_val_and_test/NonFight/GCgD8AkV_0', 0], ['/content/drive/Shareddrives/Datasets/RWF-2000/processed_val_and_test/NonFight/gJV3TuKF_0', 0]], [['/content/drive/Shareddrives/Datasets/RWF-2000/processed_val_and_test/NonFight/zGBzk5SeJOw_1', 0], ['/content/drive/Shareddrives/Datasets/RWF-2000/processed_val_and_test/NonFight/zMbmPG71_0', 0]], [['/content/drive/Shareddrives/Datasets/RWF-2000/processed_val_and_test/NonFight/FpDZIe2z_0', 0], ['/content/drive/Shareddrives/Datasets/RWF-2000/processed_val_and_test/NonFight/Fwhi4UNI_0', 0]], [['/content/drive/Shareddrives/Datasets/RWF-2000/processed_val_and_test/Fight/y_vX9FtjLaQ_5', 1], ['/content/drive/Shareddrives/Datasets/RWF-2000/processed_val_and_test/Fight/y_vX9FtjLaQ_6', 1]], [['/content/drive/Shareddrives/Datasets/RWF-2000/processed_val_and_test/Fight/83d-16REC40_0', 1], ['/content/drive/Shareddrives/Datasets/RWF-2000/processed_val_and_test/Fight/83d-16REC40_1', 1]], [['/content/drive/Shareddrives/Datasets/RWF-2000/processed_val_and_test/NonFight/zWevuNTR_0', 0], ['/content/drive/Shareddrives/Datasets/RWF-2000/processed_val_and_test/NonFight/ZwhC7Kyg_0', 0]], [['/content/drive/Shareddrives/Datasets/RWF-2000/processed_val_and_test/Fight/qaAclucigpY_0', 1], ['/content/drive/Shareddrives/Datasets/RWF-2000/processed_val_and_test/Fight/qaAclucigpY_1', 1]], [['/content/drive/Shareddrives/Datasets/RWF-2000/processed_val_and_test/Fight/TYRFDVD_1110', 1], ['/content/drive/Shareddrives/Datasets/RWF-2000/processed_val_and_test/Fight/TYRFDVD_1112', 1]], [['/content/drive/Shareddrives/Datasets/RWF-2000/processed_val_and_test/NonFight/YL1qlr23_0', 0], ['/content/drive/Shareddrives/Datasets/RWF-2000/processed_val_and_test/NonFight/Yma07mlW_0', 0]], [['/content/drive/Shareddrives/Datasets/RWF-2000/processed_val_and_test/NonFight/QRJFLxqK_0', 0], ['/content/drive/Shareddrives/Datasets/RWF-2000/processed_val_and_test/NonFight/qyRJeYN5_0', 0]], [['/content/drive/Shareddrives/Datasets/RWF-2000/processed_val_and_test/Fight/RIXaF_TkLlU_0', 1], ['/content/drive/Shareddrives/Datasets/RWF-2000/processed_val_and_test/Fight/RIXaF_TkLlU_1', 1]], [['/content/drive/Shareddrives/Datasets/RWF-2000/processed_val_and_test/Fight/0Ow4cotKOuw_0', 1], ['/content/drive/Shareddrives/Datasets/RWF-2000/processed_val_and_test/Fight/0Ow4cotKOuw_1', 1]], [['/content/drive/Shareddrives/Datasets/RWF-2000/processed_val_and_test/Fight/ASGGSDG_183', 1], ['/content/drive/Shareddrives/Datasets/RWF-2000/processed_val_and_test/Fight/bW2vHhYbzHM_0', 1]], [['/content/drive/Shareddrives/Datasets/RWF-2000/processed_val_and_test/Fight/v4dhdnsxiX4_3', 1], ['/content/drive/Shareddrives/Datasets/RWF-2000/processed_val_and_test/Fight/Wq0BuA8GM84_0', 1]], [['/content/drive/Shareddrives/Datasets/RWF-2000/processed_val_and_test/Fight/1MVS2QPWbHc_3', 1], ['/content/drive/Shareddrives/Datasets/RWF-2000/processed_val_and_test/Fight/1MVS2QPWbHc_4', 1]], [['/content/drive/Shareddrives/Datasets/RWF-2000/processed_val_and_test/Fight/JECBfnp2ZXc_2', 1], ['/content/drive/Shareddrives/Datasets/RWF-2000/processed_val_and_test/Fight/JECBfnp2ZXc_3', 1]], [['/content/drive/Shareddrives/Datasets/RWF-2000/processed_val_and_test/NonFight/Yf55ftZR_0', 0], ['/content/drive/Shareddrives/Datasets/RWF-2000/processed_val_and_test/NonFight/yFaADLZw_0', 0]]]\n"
          ],
          "name": "stdout"
        }
      ]
    },
    {
      "cell_type": "markdown",
      "metadata": {
        "id": "05EB_MgX1DOM"
      },
      "source": [
        "# Model"
      ]
    },
    {
      "cell_type": "markdown",
      "metadata": {
        "id": "FO1sWx851L3t"
      },
      "source": [
        "## Imports"
      ]
    },
    {
      "cell_type": "code",
      "metadata": {
        "id": "3mvFmmV3D451",
        "colab": {
          "base_uri": "https://localhost:8080/"
        },
        "outputId": "b52fb6bd-04b5-452a-ca58-8d9237203877"
      },
      "source": [
        "!pip install tensorflow_addons"
      ],
      "execution_count": 9,
      "outputs": [
        {
          "output_type": "stream",
          "text": [
            "Collecting tensorflow_addons\n",
            "\u001b[?25l  Downloading https://files.pythonhosted.org/packages/2e/af/0ce633c373d2b0476ef8299673d22275fcc3c5ba283b2cec4aa06bc5b810/tensorflow_addons-0.12.1-cp36-cp36m-manylinux2010_x86_64.whl (703kB)\n",
            "\r\u001b[K     |▌                               | 10kB 19.1MB/s eta 0:00:01\r\u001b[K     |█                               | 20kB 25.4MB/s eta 0:00:01\r\u001b[K     |█▍                              | 30kB 30.8MB/s eta 0:00:01\r\u001b[K     |█▉                              | 40kB 34.7MB/s eta 0:00:01\r\u001b[K     |██▎                             | 51kB 36.9MB/s eta 0:00:01\r\u001b[K     |██▉                             | 61kB 36.8MB/s eta 0:00:01\r\u001b[K     |███▎                            | 71kB 35.2MB/s eta 0:00:01\r\u001b[K     |███▊                            | 81kB 34.0MB/s eta 0:00:01\r\u001b[K     |████▏                           | 92kB 31.0MB/s eta 0:00:01\r\u001b[K     |████▋                           | 102kB 28.2MB/s eta 0:00:01\r\u001b[K     |█████▏                          | 112kB 28.2MB/s eta 0:00:01\r\u001b[K     |█████▋                          | 122kB 28.2MB/s eta 0:00:01\r\u001b[K     |██████                          | 133kB 28.2MB/s eta 0:00:01\r\u001b[K     |██████▌                         | 143kB 28.2MB/s eta 0:00:01\r\u001b[K     |███████                         | 153kB 28.2MB/s eta 0:00:01\r\u001b[K     |███████▌                        | 163kB 28.2MB/s eta 0:00:01\r\u001b[K     |████████                        | 174kB 28.2MB/s eta 0:00:01\r\u001b[K     |████████▍                       | 184kB 28.2MB/s eta 0:00:01\r\u001b[K     |████████▉                       | 194kB 28.2MB/s eta 0:00:01\r\u001b[K     |█████████▎                      | 204kB 28.2MB/s eta 0:00:01\r\u001b[K     |█████████▉                      | 215kB 28.2MB/s eta 0:00:01\r\u001b[K     |██████████▎                     | 225kB 28.2MB/s eta 0:00:01\r\u001b[K     |██████████▊                     | 235kB 28.2MB/s eta 0:00:01\r\u001b[K     |███████████▏                    | 245kB 28.2MB/s eta 0:00:01\r\u001b[K     |███████████▋                    | 256kB 28.2MB/s eta 0:00:01\r\u001b[K     |████████████▏                   | 266kB 28.2MB/s eta 0:00:01\r\u001b[K     |████████████▋                   | 276kB 28.2MB/s eta 0:00:01\r\u001b[K     |█████████████                   | 286kB 28.2MB/s eta 0:00:01\r\u001b[K     |█████████████▌                  | 296kB 28.2MB/s eta 0:00:01\r\u001b[K     |██████████████                  | 307kB 28.2MB/s eta 0:00:01\r\u001b[K     |██████████████▍                 | 317kB 28.2MB/s eta 0:00:01\r\u001b[K     |███████████████                 | 327kB 28.2MB/s eta 0:00:01\r\u001b[K     |███████████████▍                | 337kB 28.2MB/s eta 0:00:01\r\u001b[K     |███████████████▉                | 348kB 28.2MB/s eta 0:00:01\r\u001b[K     |████████████████▎               | 358kB 28.2MB/s eta 0:00:01\r\u001b[K     |████████████████▊               | 368kB 28.2MB/s eta 0:00:01\r\u001b[K     |█████████████████▎              | 378kB 28.2MB/s eta 0:00:01\r\u001b[K     |█████████████████▊              | 389kB 28.2MB/s eta 0:00:01\r\u001b[K     |██████████████████▏             | 399kB 28.2MB/s eta 0:00:01\r\u001b[K     |██████████████████▋             | 409kB 28.2MB/s eta 0:00:01\r\u001b[K     |███████████████████             | 419kB 28.2MB/s eta 0:00:01\r\u001b[K     |███████████████████▋            | 430kB 28.2MB/s eta 0:00:01\r\u001b[K     |████████████████████            | 440kB 28.2MB/s eta 0:00:01\r\u001b[K     |████████████████████▌           | 450kB 28.2MB/s eta 0:00:01\r\u001b[K     |█████████████████████           | 460kB 28.2MB/s eta 0:00:01\r\u001b[K     |█████████████████████▍          | 471kB 28.2MB/s eta 0:00:01\r\u001b[K     |██████████████████████          | 481kB 28.2MB/s eta 0:00:01\r\u001b[K     |██████████████████████▍         | 491kB 28.2MB/s eta 0:00:01\r\u001b[K     |██████████████████████▉         | 501kB 28.2MB/s eta 0:00:01\r\u001b[K     |███████████████████████▎        | 512kB 28.2MB/s eta 0:00:01\r\u001b[K     |███████████████████████▊        | 522kB 28.2MB/s eta 0:00:01\r\u001b[K     |████████████████████████▎       | 532kB 28.2MB/s eta 0:00:01\r\u001b[K     |████████████████████████▊       | 542kB 28.2MB/s eta 0:00:01\r\u001b[K     |█████████████████████████▏      | 552kB 28.2MB/s eta 0:00:01\r\u001b[K     |█████████████████████████▋      | 563kB 28.2MB/s eta 0:00:01\r\u001b[K     |██████████████████████████      | 573kB 28.2MB/s eta 0:00:01\r\u001b[K     |██████████████████████████▋     | 583kB 28.2MB/s eta 0:00:01\r\u001b[K     |███████████████████████████     | 593kB 28.2MB/s eta 0:00:01\r\u001b[K     |███████████████████████████▌    | 604kB 28.2MB/s eta 0:00:01\r\u001b[K     |████████████████████████████    | 614kB 28.2MB/s eta 0:00:01\r\u001b[K     |████████████████████████████▍   | 624kB 28.2MB/s eta 0:00:01\r\u001b[K     |████████████████████████████▉   | 634kB 28.2MB/s eta 0:00:01\r\u001b[K     |█████████████████████████████▍  | 645kB 28.2MB/s eta 0:00:01\r\u001b[K     |█████████████████████████████▉  | 655kB 28.2MB/s eta 0:00:01\r\u001b[K     |██████████████████████████████▎ | 665kB 28.2MB/s eta 0:00:01\r\u001b[K     |██████████████████████████████▊ | 675kB 28.2MB/s eta 0:00:01\r\u001b[K     |███████████████████████████████▏| 686kB 28.2MB/s eta 0:00:01\r\u001b[K     |███████████████████████████████▊| 696kB 28.2MB/s eta 0:00:01\r\u001b[K     |████████████████████████████████| 706kB 28.2MB/s \n",
            "\u001b[?25hRequirement already satisfied: typeguard>=2.7 in /usr/local/lib/python3.6/dist-packages (from tensorflow_addons) (2.7.1)\n",
            "Installing collected packages: tensorflow-addons\n",
            "Successfully installed tensorflow-addons-0.12.1\n"
          ],
          "name": "stdout"
        }
      ]
    },
    {
      "cell_type": "code",
      "metadata": {
        "id": "q-q4-Usr1EyH"
      },
      "source": [
        "from tensorflow.keras import layers\r\n",
        "import numpy as np\r\n",
        "from keras.layers import TimeDistributed, Conv2D, Dense, MaxPooling2D, \\\r\n",
        "Flatten, LSTM, Dropout, BatchNormalization\r\n",
        "from keras import models\r\n",
        "import itertools\r\n",
        "\r\n",
        "import keras\r\n",
        "from keras import optimizers\r\n",
        "import tensorflow_addons as tfa\r\n",
        "\r\n",
        "import datetime"
      ],
      "execution_count": 29,
      "outputs": []
    },
    {
      "cell_type": "markdown",
      "metadata": {
        "id": "TtKbgwky1OP5"
      },
      "source": [
        "## Architecture"
      ]
    },
    {
      "cell_type": "code",
      "metadata": {
        "id": "FJ7GwVbU7GWl"
      },
      "source": [
        "input_shape = (30, image_size[0], image_size[1], 3)\r\n",
        "num_epochs = 5\r\n",
        "\r\n",
        "train_steps = len(train_data) // num_epochs\r\n",
        "val_steps = len(val_data) // num_epochs\r\n"
      ],
      "execution_count": 30,
      "outputs": []
    },
    {
      "cell_type": "code",
      "metadata": {
        "id": "zBjJKLNv1N3E",
        "colab": {
          "base_uri": "https://localhost:8080/"
        },
        "outputId": "6960b27a-7385-44da-b169-362c0ea0a257"
      },
      "source": [
        "strategy= tf.distribute.MultiWorkerMirroredStrategy()\r\n",
        "\r\n",
        "with strategy.scope():\r\n",
        "    model = models.Sequential(\r\n",
        "        [\r\n",
        "            TimeDistributed(\r\n",
        "                Conv2D(32, (3, 3), activation=tf.nn.relu), \r\n",
        "                input_shape=input_shape\r\n",
        "            ),\r\n",
        "            TimeDistributed(MaxPooling2D((2, 2), strides=(1, 1))),\r\n",
        "            TimeDistributed(Conv2D(32, (4, 4), activation=tf.nn.relu)),\r\n",
        "            TimeDistributed(MaxPooling2D((2, 2), strides=(2, 2))),\r\n",
        "            TimeDistributed(Conv2D(32, (4, 4), activation=tf.nn.relu)),\r\n",
        "            TimeDistributed(MaxPooling2D((2, 2), strides=(2, 2))),\r\n",
        "            TimeDistributed(Flatten()),\r\n",
        "            Dropout(0.6),\r\n",
        "            LSTM(256, return_sequences=False, dropout=0.5, input_shape=input_shape),\r\n",
        "            Dropout(0.7),\r\n",
        "            Dense(64, activation=tf.nn.relu),\r\n",
        "            Dense(32, activation=tf.nn.relu),\r\n",
        "            Dense(1, activation=tf.nn.sigmoid)\r\n",
        "        ]\r\n",
        "    )\r\n",
        "\r\n",
        "model.summary()"
      ],
      "execution_count": 31,
      "outputs": [
        {
          "output_type": "stream",
          "text": [
            "INFO:tensorflow:Using MirroredStrategy with devices ('/device:GPU:0',)\n",
            "INFO:tensorflow:Single-worker MultiWorkerMirroredStrategy with local_devices = ('/device:GPU:0',), communication = CommunicationImplementation.AUTO\n",
            "Model: \"sequential_2\"\n",
            "_________________________________________________________________\n",
            "Layer (type)                 Output Shape              Param #   \n",
            "=================================================================\n",
            "time_distributed_14 (TimeDis (None, 30, 126, 126, 32)  896       \n",
            "_________________________________________________________________\n",
            "time_distributed_15 (TimeDis (None, 30, 125, 125, 32)  0         \n",
            "_________________________________________________________________\n",
            "time_distributed_16 (TimeDis (None, 30, 122, 122, 32)  16416     \n",
            "_________________________________________________________________\n",
            "time_distributed_17 (TimeDis (None, 30, 61, 61, 32)    0         \n",
            "_________________________________________________________________\n",
            "time_distributed_18 (TimeDis (None, 30, 58, 58, 32)    16416     \n",
            "_________________________________________________________________\n",
            "time_distributed_19 (TimeDis (None, 30, 29, 29, 32)    0         \n",
            "_________________________________________________________________\n",
            "time_distributed_20 (TimeDis (None, 30, 26912)         0         \n",
            "_________________________________________________________________\n",
            "dropout_4 (Dropout)          (None, 30, 26912)         0         \n",
            "_________________________________________________________________\n",
            "lstm_2 (LSTM)                (None, 256)               27821056  \n",
            "_________________________________________________________________\n",
            "dropout_5 (Dropout)          (None, 256)               0         \n",
            "_________________________________________________________________\n",
            "dense_6 (Dense)              (None, 64)                16448     \n",
            "_________________________________________________________________\n",
            "dense_7 (Dense)              (None, 32)                2080      \n",
            "_________________________________________________________________\n",
            "dense_8 (Dense)              (None, 1)                 33        \n",
            "=================================================================\n",
            "Total params: 27,873,345\n",
            "Trainable params: 27,873,345\n",
            "Non-trainable params: 0\n",
            "_________________________________________________________________\n"
          ],
          "name": "stdout"
        }
      ]
    },
    {
      "cell_type": "code",
      "metadata": {
        "id": "0clynKRzJ887"
      },
      "source": [
        "gennifer_engineering_trainee = data_generator(train_data)\r\n",
        "gennifer_engineering_vallee = data_generator(val_data)\r\n",
        "gennifer_engineering_testee = data_generator(test_data)\r\n",
        "\r\n",
        "# adult_gennifer_trainee = tf.data.Dataset.from_generator(gennifer_engineering_trainee)\r\n",
        "# adult_gennifer_vallee = tf.Data.Dataset.from_generator(gennifer_engineering_vallee)\r\n",
        "# adult_gennifer_testee = tf.Data.Dataset.from_generator(gennifer_engineering_testee)\r\n",
        "\r\n",
        "\r\n",
        "# gennifer_engineering_trainee = itertools.cycle(gennifer_engineering_trainee)\r\n",
        "# gennifer_engineering_vallee = itertools.cycle(gennifer_engineering_vallee)"
      ],
      "execution_count": 36,
      "outputs": []
    },
    {
      "cell_type": "code",
      "metadata": {
        "colab": {
          "base_uri": "https://localhost:8080/"
        },
        "id": "k0nc2urs8G-q",
        "outputId": "64fabfc4-001a-41d3-9326-a972feb35f63"
      },
      "source": [
        "print('Training Data')\n",
        "X, y = next(gennifer_engineering_trainee)\n",
        "print(len(train_data))\n",
        "print(X.shape, y.shape)\n",
        "\n",
        "print('Validation Data')\n",
        "X, y = next(gennifer_engineering_vallee)\n",
        "print(len(val_data))\n",
        "print(X.shape, y.shape)"
      ],
      "execution_count": 30,
      "outputs": [
        {
          "output_type": "stream",
          "text": [
            "Training Data\n",
            "120\n",
            "(2, 30, 128, 128, 1) (2, 1)\n",
            "Validation Data\n",
            "40\n",
            "(2, 30, 128, 128, 1) (2, 1)\n"
          ],
          "name": "stdout"
        }
      ]
    },
    {
      "cell_type": "code",
      "metadata": {
        "id": "l_buC-evGz_j"
      },
      "source": [
        "X, y = next(gennifer_engineering_trainee)"
      ],
      "execution_count": null,
      "outputs": []
    },
    {
      "cell_type": "code",
      "metadata": {
        "id": "9imCNzga7E17"
      },
      "source": [
        "tqdm_callback = tfa.callbacks.TQDMProgressBar()\r\n",
        "model_path = 'cnn_lstm_model.h5'\r\n",
        "\r\n",
        "logdir = os.path.join(\"logs\", datetime.datetime.now().strftime(\"%Y%m%d-%H%M%S\"))\r\n",
        "tensorboard_callback = tf.keras.callbacks.TensorBoard(logdir, histogram_freq=1)\r\n",
        "\r\n",
        "callbacks_list = [\r\n",
        "    # tqdm_callback,\r\n",
        "    # keras.callbacks.EarlyStopping(monitor=['acc'], patience=3),\r\n",
        "    keras.callbacks.ModelCheckpoint(\r\n",
        "        filepath=model_path,\r\n",
        "        monitor='val_loss',\r\n",
        "        save_best_only=True\r\n",
        "    ),\r\n",
        "    tensorboard_callback,\r\n",
        "    # keras.callbacks.ReduceLROnPlateau(\r\n",
        "    #     monitor=\"val_loss\",\r\n",
        "    #     factor=0.1,\r\n",
        "    #     patience=3\r\n",
        "    # )\r\n",
        "]\r\n",
        "\r\n",
        "optimizer=optimizers.Adam()\r\n",
        "model.compile(optimizer=optimizer, loss='binary_crossentropy', metrics=['acc'])"
      ],
      "execution_count": 35,
      "outputs": []
    },
    {
      "cell_type": "code",
      "metadata": {
        "id": "otWXgZaD8MqK"
      },
      "source": [
        "with tf.device('/device:GPU:0'):\r\n",
        "    history = model.fit(\r\n",
        "        gennifer_engineering_trainee,\r\n",
        "        steps_per_epoch=train_steps,\r\n",
        "        validation_data=gennifer_engineering_vallee,\r\n",
        "        validation_steps=val_steps,\r\n",
        "        epochs=num_epochs,\r\n",
        "        callbacks=callbacks_list,\r\n",
        "        batch_size=batch_size,\r\n",
        "        use_multiprocessing=True,\r\n",
        "        workers=16,\r\n",
        "    )"
      ],
      "execution_count": null,
      "outputs": []
    },
    {
      "cell_type": "code",
      "metadata": {
        "id": "7Gd32tdRFXUg"
      },
      "source": [
        "%tensorboard --logdir logs"
      ],
      "execution_count": null,
      "outputs": []
    },
    {
      "cell_type": "code",
      "metadata": {
        "id": "olBEa95TGFlB"
      },
      "source": [
        "from tensorboard import notebook\r\n",
        "notebook.list() # View open TensorBoard instances"
      ],
      "execution_count": null,
      "outputs": []
    },
    {
      "cell_type": "code",
      "metadata": {
        "id": "uBSUowZtGM7C"
      },
      "source": [
        "notebook.display(port=6006, height=1000)"
      ],
      "execution_count": null,
      "outputs": []
    },
    {
      "cell_type": "code",
      "metadata": {
        "id": "LdZf2HInL6XW"
      },
      "source": [
        "model.save('/content/drive/Shareddrives/Final Year Project/Saved Model/' + datetime.utcnow() + '_model_with_mog.h5',save_format='h5')"
      ],
      "execution_count": 18,
      "outputs": []
    },
    {
      "cell_type": "markdown",
      "metadata": {
        "id": "HNAJCt91MBki"
      },
      "source": [
        "model.save(, save_format='h5')"
      ]
    },
    {
      "cell_type": "code",
      "metadata": {
        "id": "ESy4Skn8L63m"
      },
      "source": [
        ""
      ],
      "execution_count": null,
      "outputs": []
    },
    {
      "cell_type": "markdown",
      "metadata": {
        "id": "bMnwkfzvIbZY"
      },
      "source": [
        "```\r\n",
        "total_number_of_videos = batch_size * (steps_per_epoch * epochs)\r\n",
        "\r\n",
        "number_of_batches = total_number_of_videos / batch_size\r\n",
        "```"
      ]
    },
    {
      "cell_type": "code",
      "metadata": {
        "colab": {
          "base_uri": "https://localhost:8080/",
          "height": 516
        },
        "id": "LnRMUSeENeFK",
        "outputId": "20501da0-055e-45aa-bc39-9f57cc900532"
      },
      "source": [
        "acc = history.history['acc']\r\n",
        "loss = history.history['loss']\r\n",
        "val_loss = history.history['val_loss']\r\n",
        "val_acc = history.history['val_acc']\r\n",
        "\r\n",
        "print(history.history.keys())\r\n",
        "epochs_range = range(num_epochs)\r\n",
        "\r\n",
        "plt.figure(figsize=(8, 8))\r\n",
        "plt.subplot(1, 2, 1)\r\n",
        "plt.plot(epochs_range, acc, label='Training Accuracy')\r\n",
        "plt.plot(epochs_range, val_acc, label='Validation Accuracy')\r\n",
        "\r\n",
        "plt.legend(loc='lower right')\r\n",
        "plt.title('Training & Validation Accuracy')\r\n",
        "\r\n",
        "plt.subplot(1, 2, 2)\r\n",
        "plt.plot(epochs_range, loss, label='Training Loss')\r\n",
        "plt.plot(epochs_range, val_loss, label='Validation Loss')\r\n",
        "\r\n",
        "plt.legend(loc='upper right')\r\n",
        "plt.title('Training & Validation Loss')\r\n",
        "plt.show()\r\n"
      ],
      "execution_count": null,
      "outputs": [
        {
          "output_type": "stream",
          "text": [
            "dict_keys(['loss', 'acc', 'val_loss', 'val_acc'])\n"
          ],
          "name": "stdout"
        },
        {
          "output_type": "display_data",
          "data": {
            "image/png": "[encoded data removed]",
            "text/plain": [
              "<Figure size 576x576 with 2 Axes>"
            ]
          },
          "metadata": {
            "tags": [],
            "needs_background": "light"
          }
        }
      ]
    }
  ]
}