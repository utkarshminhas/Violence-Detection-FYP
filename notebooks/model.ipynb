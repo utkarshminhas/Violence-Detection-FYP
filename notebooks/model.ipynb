{
  "nbformat": 4,
  "nbformat_minor": 0,
  "metadata": {
    "colab": {
      "name": "model.ipynb",
      "provenance": [],
      "toc_visible": true,
      "include_colab_link": true
    },
    "kernelspec": {
      "name": "python3",
      "display_name": "Python 3"
    },
    "accelerator": "GPU"
  },
  "cells": [
    {
      "cell_type": "markdown",
      "metadata": {
        "id": "view-in-github",
        "colab_type": "text"
      },
      "source": [
        "<a href=\"https://colab.research.google.com/github/utkarshminhas/violence-detection-fyp/blob/main/notebooks/model.ipynb\" target=\"_parent\"><img src=\"https://colab.research.google.com/assets/colab-badge.svg\" alt=\"Open In Colab\"/></a>"
      ]
    },
    {
      "cell_type": "markdown",
      "metadata": {
        "id": "6WaXICVsuHU6"
      },
      "source": [
        "# Set dataset paths"
      ]
    },
    {
      "cell_type": "code",
      "metadata": {
        "id": "KQEVSs33txCW"
      },
      "source": [
        "raw_rwf_dir = '/content/drive/Shareddrives/Final Year Project/Datasets/Mini-RWF-2000'\r\n",
        "processed_rwf_dir = '/content/drive/Shareddrives/Final Year Project/Datasets/Processed'"
      ],
      "execution_count": 1,
      "outputs": []
    },
    {
      "cell_type": "markdown",
      "metadata": {
        "id": "t87_UH59-lGw"
      },
      "source": [
        "# Export to frames"
      ]
    },
    {
      "cell_type": "code",
      "metadata": {
        "id": "Z01RVcLiA9ra"
      },
      "source": [
        "import os\r\n",
        "import cv2\r\n",
        "import matplotlib.pyplot as plt\r\n",
        "from google.colab.patches import cv2_imshow\r\n",
        "from tqdm import tqdm\r\n",
        "import numpy as np"
      ],
      "execution_count": 2,
      "outputs": []
    },
    {
      "cell_type": "code",
      "metadata": {
        "id": "96SudV8E-kXu"
      },
      "source": [
        "def generate_base_folders():\r\n",
        "    if not os.path.exists(processed_rwf_dir):\r\n",
        "        os.makedirs(processed_rwf_dir)\r\n",
        "\r\n",
        "    categories = os.listdir(raw_rwf_dir)\r\n",
        "    \r\n",
        "    for category in categories:\r\n",
        "        cur_op_dir = os.path.join(processed_rwf_dir, category)\r\n",
        "        if not os.path.exists(cur_op_dir):\r\n",
        "            os.makedirs(cur_op_dir)\r\n",
        "\r\n",
        "def convert_to_frames():\r\n",
        "    categories = os.listdir(raw_rwf_dir)\r\n",
        "\r\n",
        "    for category in tqdm(categories):\r\n",
        "        videos = os.listdir(os.path.join(raw_rwf_dir, category))\r\n",
        "\r\n",
        "        for video in tqdm(videos, position=0, leave=True):\r\n",
        "            generate_frames(category, video)\r\n",
        "\r\n",
        "\r\n",
        "fgbg = cv2.createBackgroundSubtractorMOG2(\r\n",
        "        varThreshold=15,\r\n",
        "    detectShadows=True\r\n",
        ")\r\n",
        "\r\n",
        "\r\n",
        "def get_mask(frame):\r\n",
        "    mog_mask = fgbg.apply(frame)\r\n",
        "    median_blur_mask = cv2.medianBlur(mog_mask, 5)\r\n",
        "    bilateral_filter_mask = cv2.bilateralFilter(median_blur_mask, 9, 75, 75)\r\n",
        "    gaussian_blur_mask = cv2.GaussianBlur(bilateral_filter_mask, (13, 13), 5)\r\n",
        "\r\n",
        "    return gaussian_blur_mask\r\n",
        "\r\n",
        "\r\n",
        "def generate_frames(category, video):\r\n",
        "    base_video_name, _ = os.path.splitext(video)\r\n",
        "    video_ip_path = os.path.join(raw_rwf_dir, category, video)\r\n",
        "    video_op_dir_path = os.path.join(processed_rwf_dir, category, base_video_name)\r\n",
        "\r\n",
        "    if not os.path.exists(video_op_dir_path):\r\n",
        "        os.makedirs(video_op_dir_path)\r\n",
        "\r\n",
        "    cap = cv2.VideoCapture(video_ip_path)\r\n",
        "    framerate = int(cap.get(5))\r\n",
        "\r\n",
        "    capture_frequency = 5\r\n",
        "\r\n",
        "    while True:\r\n",
        "        frame_number = int(cap.get(1))\r\n",
        "        success, frame = cap.read()\r\n",
        "\r\n",
        "        if not success or frame is None:\r\n",
        "            break\r\n",
        "\r\n",
        "        masked_frame = get_mask(frame)\r\n",
        "\r\n",
        "        if frame_number % capture_frequency == 1:\r\n",
        "            exporting_frame_number = int(frame_number / capture_frequency)\r\n",
        "            frame_path = os.path.join(video_op_dir_path, \"frame_{0:0=3d}.jpg\".format(exporting_frame_number))\r\n",
        "            cv2.imwrite(frame_path, masked_frame)\r\n",
        "\r\n",
        "        k = cv2.waitKey(30)\r\n",
        "\r\n",
        "        if k == 27 or k == ord('q'):\r\n",
        "            break\r\n",
        "\r\n",
        "    cap.release()\r\n"
      ],
      "execution_count": null,
      "outputs": []
    },
    {
      "cell_type": "code",
      "metadata": {
        "id": "DaJkyokAR8pQ"
      },
      "source": [
        "generate_base_folders()\r\n",
        "\r\n",
        "with tf.device('/device:GPU:0'):\r\n",
        "    convert_to_frames()"
      ],
      "execution_count": null,
      "outputs": []
    },
    {
      "cell_type": "markdown",
      "metadata": {
        "id": "WGgaCKJM-ssP"
      },
      "source": [
        "# Preprocessing"
      ]
    },
    {
      "cell_type": "code",
      "metadata": {
        "id": "J1sGyGgv-uQn"
      },
      "source": [
        "# lalalal"
      ],
      "execution_count": null,
      "outputs": []
    },
    {
      "cell_type": "markdown",
      "metadata": {
        "id": "3PjHXArg-qNm"
      },
      "source": [
        "# Model"
      ]
    },
    {
      "cell_type": "markdown",
      "metadata": {
        "id": "G5qQdjfjq6Y3"
      },
      "source": [
        "## Some global variables"
      ]
    },
    {
      "cell_type": "code",
      "metadata": {
        "id": "x0jFsPhSq_3p"
      },
      "source": [
        "image_size = (128, 128)\r\n",
        "\r\n",
        "label_to_int = {\r\n",
        "    'Fight': 1,\r\n",
        "    'NonFight': 0\r\n",
        "}\r\n",
        "\r\n",
        "batch_size = 2"
      ],
      "execution_count": 3,
      "outputs": []
    },
    {
      "cell_type": "markdown",
      "metadata": {
        "id": "O1b5E8sDU7f6"
      },
      "source": [
        "## Training and validation generator"
      ]
    },
    {
      "cell_type": "code",
      "metadata": {
        "id": "keaYaQdWU-G3"
      },
      "source": [
        "def preprocess(img):\r\n",
        "    img = cv2.resize(img, image_size)\r\n",
        "    img = cv2.cvtColor(img, cv2.COLOR_BGR2GRAY)\r\n",
        "    img = img / 255.0\r\n",
        "\r\n",
        "    temp = img\r\n",
        "    img = []\r\n",
        "    for r in range(len(temp)):\r\n",
        "        cur_row = []\r\n",
        "        for c in range(len(temp[r])):\r\n",
        "            cur_row.append([temp[r][c]])\r\n",
        "        img.append(cur_row)\r\n",
        "    img = np.array(img)\r\n",
        "\r\n",
        "    return img\r\n",
        "\r\n",
        "\r\n",
        "def get_data(batch_size):\r\n",
        "    data = []\r\n",
        "    batch = []\r\n",
        "\r\n",
        "    categories = os.listdir(processed_rwf_dir)\r\n",
        "\r\n",
        "    for category in categories:\r\n",
        "        videos = os.listdir(os.path.join(processed_rwf_dir, category))\r\n",
        "\r\n",
        "        for video in videos:\r\n",
        "            video_folder_path = os.path.join(processed_rwf_dir, category, video)\r\n",
        "            batch.append([video_folder_path, label_to_int.get(category)])\r\n",
        "\r\n",
        "            # If batch size is not a multiple of total number of videos, it will not return it since the if condition will never be satisfied\r\n",
        "            if len(batch) == batch_size:\r\n",
        "                data.append(batch)\r\n",
        "                batch = []\r\n",
        "\r\n",
        "    return data\r\n",
        "\r\n",
        "\r\n",
        "def data_generator(data):\r\n",
        "    for batch in data:\r\n",
        "        x_set = []\r\n",
        "        y_set = []\r\n",
        "\r\n",
        "        for video, category in batch:\r\n",
        "            current_video = []\r\n",
        "\r\n",
        "            frames = os.listdir(video)\r\n",
        "            for frame in frames:\r\n",
        "                frame_path = os.path.join(video, frame)\r\n",
        "                img = cv2.imread(frame_path)\r\n",
        "                img = preprocess(img)\r\n",
        "\r\n",
        "                current_video.append(img)\r\n",
        "\r\n",
        "            x_set.append(current_video)\r\n",
        "            y_set.append([category])\r\n",
        "\r\n",
        "        x_set = np.array(x_set)\r\n",
        "        y_set = np.array(y_set)\r\n",
        "\r\n",
        "        yield (x_set, y_set)\r\n",
        "\r\n",
        "data = get_data(batch_size)"
      ],
      "execution_count": 6,
      "outputs": []
    },
    {
      "cell_type": "code",
      "metadata": {
        "id": "0clynKRzJ887"
      },
      "source": [
        "gennifer = data_generator(data)\r\n",
        "\r\n",
        "# for X, y in gennifer:\r\n",
        "#     print(X.shape, y.shape)"
      ],
      "execution_count": 7,
      "outputs": []
    },
    {
      "cell_type": "markdown",
      "metadata": {
        "id": "05EB_MgX1DOM"
      },
      "source": [
        "# Model"
      ]
    },
    {
      "cell_type": "markdown",
      "metadata": {
        "id": "FO1sWx851L3t"
      },
      "source": [
        "## Imports"
      ]
    },
    {
      "cell_type": "code",
      "metadata": {
        "colab": {
          "base_uri": "https://localhost:8080/"
        },
        "id": "3mvFmmV3D451",
        "outputId": "4af97397-aee2-4864-f107-96b7222fe597"
      },
      "source": [
        "!pip install tensorflow_addons"
      ],
      "execution_count": 8,
      "outputs": [
        {
          "output_type": "stream",
          "text": [
            "Collecting tensorflow_addons\n",
            "\u001b[?25l  Downloading https://files.pythonhosted.org/packages/2e/af/0ce633c373d2b0476ef8299673d22275fcc3c5ba283b2cec4aa06bc5b810/tensorflow_addons-0.12.1-cp36-cp36m-manylinux2010_x86_64.whl (703kB)\n",
            "\r\u001b[K     |▌                               | 10kB 20.1MB/s eta 0:00:01\r\u001b[K     |█                               | 20kB 16.3MB/s eta 0:00:01\r\u001b[K     |█▍                              | 30kB 13.4MB/s eta 0:00:01\r\u001b[K     |█▉                              | 40kB 12.3MB/s eta 0:00:01\r\u001b[K     |██▎                             | 51kB 7.5MB/s eta 0:00:01\r\u001b[K     |██▉                             | 61kB 7.8MB/s eta 0:00:01\r\u001b[K     |███▎                            | 71kB 8.2MB/s eta 0:00:01\r\u001b[K     |███▊                            | 81kB 9.0MB/s eta 0:00:01\r\u001b[K     |████▏                           | 92kB 8.2MB/s eta 0:00:01\r\u001b[K     |████▋                           | 102kB 7.2MB/s eta 0:00:01\r\u001b[K     |█████▏                          | 112kB 7.2MB/s eta 0:00:01\r\u001b[K     |█████▋                          | 122kB 7.2MB/s eta 0:00:01\r\u001b[K     |██████                          | 133kB 7.2MB/s eta 0:00:01\r\u001b[K     |██████▌                         | 143kB 7.2MB/s eta 0:00:01\r\u001b[K     |███████                         | 153kB 7.2MB/s eta 0:00:01\r\u001b[K     |███████▌                        | 163kB 7.2MB/s eta 0:00:01\r\u001b[K     |████████                        | 174kB 7.2MB/s eta 0:00:01\r\u001b[K     |████████▍                       | 184kB 7.2MB/s eta 0:00:01\r\u001b[K     |████████▉                       | 194kB 7.2MB/s eta 0:00:01\r\u001b[K     |█████████▎                      | 204kB 7.2MB/s eta 0:00:01\r\u001b[K     |█████████▉                      | 215kB 7.2MB/s eta 0:00:01\r\u001b[K     |██████████▎                     | 225kB 7.2MB/s eta 0:00:01\r\u001b[K     |██████████▊                     | 235kB 7.2MB/s eta 0:00:01\r\u001b[K     |███████████▏                    | 245kB 7.2MB/s eta 0:00:01\r\u001b[K     |███████████▋                    | 256kB 7.2MB/s eta 0:00:01\r\u001b[K     |████████████▏                   | 266kB 7.2MB/s eta 0:00:01\r\u001b[K     |████████████▋                   | 276kB 7.2MB/s eta 0:00:01\r\u001b[K     |█████████████                   | 286kB 7.2MB/s eta 0:00:01\r\u001b[K     |█████████████▌                  | 296kB 7.2MB/s eta 0:00:01\r\u001b[K     |██████████████                  | 307kB 7.2MB/s eta 0:00:01\r\u001b[K     |██████████████▍                 | 317kB 7.2MB/s eta 0:00:01\r\u001b[K     |███████████████                 | 327kB 7.2MB/s eta 0:00:01\r\u001b[K     |███████████████▍                | 337kB 7.2MB/s eta 0:00:01\r\u001b[K     |███████████████▉                | 348kB 7.2MB/s eta 0:00:01\r\u001b[K     |████████████████▎               | 358kB 7.2MB/s eta 0:00:01\r\u001b[K     |████████████████▊               | 368kB 7.2MB/s eta 0:00:01\r\u001b[K     |█████████████████▎              | 378kB 7.2MB/s eta 0:00:01\r\u001b[K     |█████████████████▊              | 389kB 7.2MB/s eta 0:00:01\r\u001b[K     |██████████████████▏             | 399kB 7.2MB/s eta 0:00:01\r\u001b[K     |██████████████████▋             | 409kB 7.2MB/s eta 0:00:01\r\u001b[K     |███████████████████             | 419kB 7.2MB/s eta 0:00:01\r\u001b[K     |███████████████████▋            | 430kB 7.2MB/s eta 0:00:01\r\u001b[K     |████████████████████            | 440kB 7.2MB/s eta 0:00:01\r\u001b[K     |████████████████████▌           | 450kB 7.2MB/s eta 0:00:01\r\u001b[K     |█████████████████████           | 460kB 7.2MB/s eta 0:00:01\r\u001b[K     |█████████████████████▍          | 471kB 7.2MB/s eta 0:00:01\r\u001b[K     |██████████████████████          | 481kB 7.2MB/s eta 0:00:01\r\u001b[K     |██████████████████████▍         | 491kB 7.2MB/s eta 0:00:01\r\u001b[K     |██████████████████████▉         | 501kB 7.2MB/s eta 0:00:01\r\u001b[K     |███████████████████████▎        | 512kB 7.2MB/s eta 0:00:01\r\u001b[K     |███████████████████████▊        | 522kB 7.2MB/s eta 0:00:01\r\u001b[K     |████████████████████████▎       | 532kB 7.2MB/s eta 0:00:01\r\u001b[K     |████████████████████████▊       | 542kB 7.2MB/s eta 0:00:01\r\u001b[K     |█████████████████████████▏      | 552kB 7.2MB/s eta 0:00:01\r\u001b[K     |█████████████████████████▋      | 563kB 7.2MB/s eta 0:00:01\r\u001b[K     |██████████████████████████      | 573kB 7.2MB/s eta 0:00:01\r\u001b[K     |██████████████████████████▋     | 583kB 7.2MB/s eta 0:00:01\r\u001b[K     |███████████████████████████     | 593kB 7.2MB/s eta 0:00:01\r\u001b[K     |███████████████████████████▌    | 604kB 7.2MB/s eta 0:00:01\r\u001b[K     |████████████████████████████    | 614kB 7.2MB/s eta 0:00:01\r\u001b[K     |████████████████████████████▍   | 624kB 7.2MB/s eta 0:00:01\r\u001b[K     |████████████████████████████▉   | 634kB 7.2MB/s eta 0:00:01\r\u001b[K     |█████████████████████████████▍  | 645kB 7.2MB/s eta 0:00:01\r\u001b[K     |█████████████████████████████▉  | 655kB 7.2MB/s eta 0:00:01\r\u001b[K     |██████████████████████████████▎ | 665kB 7.2MB/s eta 0:00:01\r\u001b[K     |██████████████████████████████▊ | 675kB 7.2MB/s eta 0:00:01\r\u001b[K     |███████████████████████████████▏| 686kB 7.2MB/s eta 0:00:01\r\u001b[K     |███████████████████████████████▊| 696kB 7.2MB/s eta 0:00:01\r\u001b[K     |████████████████████████████████| 706kB 7.2MB/s \n",
            "\u001b[?25hRequirement already satisfied: typeguard>=2.7 in /usr/local/lib/python3.6/dist-packages (from tensorflow_addons) (2.7.1)\n",
            "Installing collected packages: tensorflow-addons\n",
            "Successfully installed tensorflow-addons-0.12.1\n"
          ],
          "name": "stdout"
        }
      ]
    },
    {
      "cell_type": "code",
      "metadata": {
        "id": "q-q4-Usr1EyH"
      },
      "source": [
        "from tensorflow.keras import layers\r\n",
        "import numpy as np\r\n",
        "from keras.layers import TimeDistributed, Conv2D, Dense, MaxPooling2D, \\\r\n",
        "Flatten, LSTM, Dropout, BatchNormalization\r\n",
        "from keras import models\r\n",
        "import itertools\r\n",
        "\r\n",
        "import tensorflow as tf\r\n",
        "import keras\r\n",
        "from keras import optimizers\r\n",
        "import tensorflow_addons as tfa"
      ],
      "execution_count": 12,
      "outputs": []
    },
    {
      "cell_type": "markdown",
      "metadata": {
        "id": "TtKbgwky1OP5"
      },
      "source": [
        "## Architecture"
      ]
    },
    {
      "cell_type": "code",
      "metadata": {
        "id": "FJ7GwVbU7GWl",
        "colab": {
          "base_uri": "https://localhost:8080/"
        },
        "outputId": "57bc689f-89ea-4c04-964d-4c1efb506d04"
      },
      "source": [
        "input_shape = (30, image_size[0], image_size[1], 1)\r\n",
        "\r\n",
        "print(input_shape)"
      ],
      "execution_count": 10,
      "outputs": [
        {
          "output_type": "stream",
          "text": [
            "(30, 128, 128, 1)\n"
          ],
          "name": "stdout"
        }
      ]
    },
    {
      "cell_type": "code",
      "metadata": {
        "colab": {
          "base_uri": "https://localhost:8080/"
        },
        "id": "zBjJKLNv1N3E",
        "outputId": "b798e3d1-31b1-4d9e-ab89-30f36d55c10b"
      },
      "source": [
        "model = models.Sequential(\r\n",
        "    [\r\n",
        "        TimeDistributed(\r\n",
        "            Conv2D(64, (3, 3), activation=tf.nn.relu), \r\n",
        "            input_shape=input_shape\r\n",
        "        ),\r\n",
        "        TimeDistributed(MaxPooling2D((2, 2), strides=(1, 1))),\r\n",
        "        TimeDistributed(Conv2D(128, (4, 4), activation=tf.nn.relu)),\r\n",
        "        TimeDistributed(MaxPooling2D((2, 2), strides=(2, 2))),\r\n",
        "        TimeDistributed(Conv2D(256, (4, 4), activation=tf.nn.relu)),\r\n",
        "        TimeDistributed(MaxPooling2D((2, 2), strides=(2, 2))),\r\n",
        "        TimeDistributed(Flatten()),\r\n",
        "        Dropout(0.5),\r\n",
        "        LSTM(256, return_sequences=False, dropout=0.5, input_shape=input_shape),\r\n",
        "        Dense(1, activation=tf.nn.sigmoid)\r\n",
        "    ]\r\n",
        ")\r\n",
        "\r\n",
        "model.summary()"
      ],
      "execution_count": 14,
      "outputs": [
        {
          "output_type": "stream",
          "text": [
            "Model: \"sequential_1\"\n",
            "_________________________________________________________________\n",
            "Layer (type)                 Output Shape              Param #   \n",
            "=================================================================\n",
            "time_distributed_7 (TimeDist (None, 30, 126, 126, 64)  640       \n",
            "_________________________________________________________________\n",
            "time_distributed_8 (TimeDist (None, 30, 125, 125, 64)  0         \n",
            "_________________________________________________________________\n",
            "time_distributed_9 (TimeDist (None, 30, 122, 122, 128) 131200    \n",
            "_________________________________________________________________\n",
            "time_distributed_10 (TimeDis (None, 30, 61, 61, 128)   0         \n",
            "_________________________________________________________________\n",
            "time_distributed_11 (TimeDis (None, 30, 58, 58, 256)   524544    \n",
            "_________________________________________________________________\n",
            "time_distributed_12 (TimeDis (None, 30, 29, 29, 256)   0         \n",
            "_________________________________________________________________\n",
            "time_distributed_13 (TimeDis (None, 30, 215296)        0         \n",
            "_________________________________________________________________\n",
            "dropout_1 (Dropout)          (None, 30, 215296)        0         \n",
            "_________________________________________________________________\n",
            "lstm (LSTM)                  (None, 256)               220726272 \n",
            "_________________________________________________________________\n",
            "dense_1 (Dense)              (None, 1)                 257       \n",
            "=================================================================\n",
            "Total params: 221,382,913\n",
            "Trainable params: 221,382,913\n",
            "Non-trainable params: 0\n",
            "_________________________________________________________________\n"
          ],
          "name": "stdout"
        }
      ]
    },
    {
      "cell_type": "code",
      "metadata": {
        "id": "9imCNzga7E17"
      },
      "source": [
        "tqdm_callback = tfa.callbacks.TQDMProgressBar()\r\n",
        "model_path = 'cnn_lstm_model.h5'\r\n",
        "\r\n",
        "callbacks_list = [\r\n",
        "    # tqdm_callback,\r\n",
        "    # keras.callbacks.EarlyStopping(monitor=['acc'], patience=3),\r\n",
        "    # keras.callbacks.ModelCheckpoint(\r\n",
        "    #     filepath=model_path,\r\n",
        "    #     monitor='val_loss',\r\n",
        "    #     save_best_only=True\r\n",
        "    # ),\r\n",
        "    # keras.callbacks.ReduceLROnPlateau(\r\n",
        "    #     monitor=\"val_loss\",\r\n",
        "    #     factor=0.1,\r\n",
        "    #     patience=3\r\n",
        "    # )\r\n",
        "]\r\n",
        "\r\n",
        "optimizer=optimizers.RMSprop(lr=0.06)\r\n",
        "model.compile(optimizer=optimizer, loss='binary_crossentropy', metrics=['acc'])"
      ],
      "execution_count": 15,
      "outputs": []
    },
    {
      "cell_type": "code",
      "metadata": {
        "colab": {
          "base_uri": "https://localhost:8080/"
        },
        "id": "otWXgZaD8MqK",
        "outputId": "10dca674-5643-4c5e-8d16-6796d97d713a"
      },
      "source": [
        "gennifer = data_generator(data)\r\n",
        "gennifer = itertools.cycle(gennifer)\r\n",
        "\r\n",
        "with tf.device('/device:GPU:0'):\r\n",
        "    history = model.fit(\r\n",
        "        gennifer,\r\n",
        "        steps_per_epoch=int(12/batch_size),\r\n",
        "        # validation_data=ds_val,\r\n",
        "        epochs=3,\r\n",
        "        callbacks=callbacks_list,\r\n",
        "        batch_size=batch_size\r\n",
        "    )"
      ],
      "execution_count": 16,
      "outputs": [
        {
          "output_type": "stream",
          "text": [
            "Epoch 1/3\n",
            "6/6 [==============================] - 112s 20s/step - loss: 0.2589 - acc: 0.8131\n",
            "Epoch 2/3\n",
            "6/6 [==============================] - 126s 21s/step - loss: 4.9302 - acc: 0.6262\n",
            "Epoch 3/3\n",
            "6/6 [==============================] - 2s 397ms/step - loss: 2.5108 - acc: 0.6262\n"
          ],
          "name": "stdout"
        }
      ]
    },
    {
      "cell_type": "code",
      "metadata": {
        "colab": {
          "base_uri": "https://localhost:8080/",
          "height": 499
        },
        "id": "LnRMUSeENeFK",
        "outputId": "7a4a79e4-4f3d-4916-b1e0-fbdcfbc14a8c"
      },
      "source": [
        "acc = history.history['acc']\r\n",
        "loss = history.history['loss']\r\n",
        "\r\n",
        "epochs_range = range(3)\r\n",
        "\r\n",
        "plt.figure(figsize=(8, 8))\r\n",
        "plt.subplot(1, 2, 1)\r\n",
        "plt.plot(epochs_range, acc, label='Training Accuracy')\r\n",
        "plt.legend(loc='lower right')\r\n",
        "plt.title('Training Accuracy')\r\n",
        "\r\n",
        "plt.subplot(1, 2, 2)\r\n",
        "plt.plot(epochs_range, loss, label='Training Loss')\r\n",
        "plt.legend(loc='upper right')\r\n",
        "plt.title('Training Loss')\r\n",
        "plt.show()"
      ],
      "execution_count": 17,
      "outputs": [
        {
          "output_type": "display_data",
          "data": {
            "image/png": "[encoded data removed]",
            "text/plain": [
              "<Figure size 576x576 with 2 Axes>"
            ]
          },
          "metadata": {
            "tags": [],
            "needs_background": "light"
          }
        }
      ]
    }
  ]
}