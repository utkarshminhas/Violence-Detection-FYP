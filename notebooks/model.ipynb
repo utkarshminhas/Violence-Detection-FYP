{
  "nbformat": 4,
  "nbformat_minor": 0,
  "metadata": {
    "colab": {
      "name": "model.ipynb",
      "provenance": [],
      "include_colab_link": true
    },
    "kernelspec": {
      "name": "python3",
      "display_name": "Python 3"
    },
    "accelerator": "GPU"
  },
  "cells": [
    {
      "cell_type": "markdown",
      "metadata": {
        "id": "view-in-github",
        "colab_type": "text"
      },
      "source": [
        "<a href=\"https://colab.research.google.com/github/utkarshminhas/violence-detection-fyp/blob/main/notebooks/model.ipynb\" target=\"_parent\"><img src=\"https://colab.research.google.com/assets/colab-badge.svg\" alt=\"Open In Colab\"/></a>"
      ]
    },
    {
      "cell_type": "markdown",
      "metadata": {
        "id": "6WaXICVsuHU6"
      },
      "source": [
        "# Set dataset paths"
      ]
    },
    {
      "cell_type": "code",
      "metadata": {
        "id": "KQEVSs33txCW"
      },
      "source": [
        "original_train_dir = '/content/drive/Shareddrives/Final Year Project/Datasets/RWF-2000/train'\r\n",
        "original_val_dir = '/content/drive/Shareddrives/Final Year Project/Datasets/RWF-2000/val'\r\n",
        "\r\n",
        "processed_train_dir = '/content/drive/Shareddrives/Datasets/RWF-2000/processed_train'\r\n",
        "processed_val_dir = '/content/drive/Shareddrives/Datasets/RWF-2000/processed_val'\r\n",
        "\r\n",
        "# raw_rwf_dir = '/content/drive/Shareddrives/Final Year Project/Datasets/Mini-RWF-2000'\r\n",
        "# processed_rwf_dir = '/content/drive/Shareddrives/Final Year Project/Datasets/Processed'"
      ],
      "execution_count": 9,
      "outputs": []
    },
    {
      "cell_type": "code",
      "metadata": {
        "colab": {
          "base_uri": "https://localhost:8080/"
        },
        "id": "lOkF54WTAq2P",
        "outputId": "36c32b04-8e49-4431-8629-ad632b0205f2"
      },
      "source": [
        "from google.colab import drive\n",
        "drive.mount('/content/drive')"
      ],
      "execution_count": 2,
      "outputs": [
        {
          "output_type": "stream",
          "text": [
            "Mounted at /content/drive\n"
          ],
          "name": "stdout"
        }
      ]
    },
    {
      "cell_type": "markdown",
      "metadata": {
        "id": "t87_UH59-lGw"
      },
      "source": [
        "# Export to frames"
      ]
    },
    {
      "cell_type": "code",
      "metadata": {
        "id": "Z01RVcLiA9ra"
      },
      "source": [
        "import os\r\n",
        "import cv2\r\n",
        "import matplotlib.pyplot as plt\r\n",
        "from google.colab.patches import cv2_imshow\r\n",
        "from tqdm import tqdm\r\n",
        "import numpy as np\r\n",
        "import tensorflow as tf"
      ],
      "execution_count": 5,
      "outputs": []
    },
    {
      "cell_type": "code",
      "metadata": {
        "id": "96SudV8E-kXu"
      },
      "source": [
        "def generate_base_folders(original_dir, processed_dir):\r\n",
        "    if not os.path.exists(processed_dir):\r\n",
        "        os.makedirs(processed_dir)\r\n",
        "\r\n",
        "    categories = os.listdir(original_dir)\r\n",
        "    \r\n",
        "    for category in categories:\r\n",
        "        cur_op_dir = os.path.join(processed_dir, category)\r\n",
        "        if not os.path.exists(cur_op_dir):\r\n",
        "            os.makedirs(cur_op_dir)\r\n",
        "\r\n",
        "def convert_to_frames(original_dir, processed_dir):\r\n",
        "    categories = os.listdir(original_dir)\r\n",
        "\r\n",
        "    for category in tqdm(categories):\r\n",
        "        videos = os.listdir(os.path.join(original_dir, category))\r\n",
        "\r\n",
        "        for video in tqdm(videos, position=0, leave=True):\r\n",
        "            generate_frames(category, video, original_dir, processed_dir)\r\n",
        "\r\n",
        "\r\n",
        "def get_mask(frame):\r\n",
        "    fgbg = cv2.createBackgroundSubtractorMOG2(\r\n",
        "           varThreshold=15,\r\n",
        "       detectShadows=True\r\n",
        "    )\r\n",
        "\r\n",
        "    mog_mask = fgbg.apply(frame)\r\n",
        "    median_blur_mask = cv2.medianBlur(mog_mask, 5)\r\n",
        "    bilateral_filter_mask = cv2.bilateralFilter(median_blur_mask, 9, 75, 75)\r\n",
        "    gaussian_blur_mask = cv2.GaussianBlur(bilateral_filter_mask, (13, 13), 5)\r\n",
        "\r\n",
        "    return gaussian_blur_mask\r\n",
        "\r\n",
        "\r\n",
        "def generate_frames(category, video, original_dir, processed_dir):\r\n",
        "    base_video_name, _ = os.path.splitext(video)\r\n",
        "    video_ip_path = os.path.join(original_dir, category, video)\r\n",
        "    video_op_dir_path = os.path.join(processed_dir, category, base_video_name)\r\n",
        "\r\n",
        "    if not os.path.exists(video_op_dir_path):\r\n",
        "        os.makedirs(video_op_dir_path)\r\n",
        "\r\n",
        "    cap = cv2.VideoCapture(video_ip_path)\r\n",
        "    framerate = int(cap.get(5))\r\n",
        "\r\n",
        "    capture_frequency = 5\r\n",
        "\r\n",
        "    while True:\r\n",
        "        frame_number = int(cap.get(1))\r\n",
        "        success, frame = cap.read()\r\n",
        "\r\n",
        "        if not success or frame is None:\r\n",
        "            break\r\n",
        "\r\n",
        "        masked_frame = get_mask(frame)\r\n",
        "\r\n",
        "        if frame_number % capture_frequency == 1:\r\n",
        "            exporting_frame_number = int(frame_number / capture_frequency)\r\n",
        "            frame_path = os.path.join(video_op_dir_path, \"frame_{0:0=3d}.jpg\".format(exporting_frame_number))\r\n",
        "            cv2.imwrite(frame_path, masked_frame)\r\n",
        "\r\n",
        "        k = cv2.waitKey(30)\r\n",
        "\r\n",
        "        if k == 27 or k == ord('q'):\r\n",
        "            break\r\n",
        "\r\n",
        "    cap.release()\r\n"
      ],
      "execution_count": 6,
      "outputs": []
    },
    {
      "cell_type": "code",
      "metadata": {
        "id": "U7WASpXp65DA"
      },
      "source": [
        "generate_base_folders(original_train_dir, processed_train_dir)\r\n",
        "generate_base_folders(original_val_dir, processed_val_dir)"
      ],
      "execution_count": 10,
      "outputs": []
    },
    {
      "cell_type": "code",
      "metadata": {
        "id": "DaJkyokAR8pQ",
        "colab": {
          "base_uri": "https://localhost:8080/"
        },
        "outputId": "f6f3e1b0-16e5-4dcf-ecf8-86def6a41afd"
      },
      "source": [
        "with tf.device('/device:GPU:0'):\r\n",
        "    convert_to_frames(original_train_dir, processed_train_dir)"
      ],
      "execution_count": 11,
      "outputs": [
        {
          "output_type": "stream",
          "text": [
            "100%|██████████| 800/800 [1:34:16<00:00,  7.07s/it]\n",
            "100%|██████████| 800/800 [1:08:09<00:00,  5.11s/it]\n",
            "100%|██████████| 2/2 [2:42:26<00:00, 4873.25s/it]\n"
          ],
          "name": "stderr"
        }
      ]
    },
    {
      "cell_type": "code",
      "metadata": {
        "id": "pmbboTSj6zoa",
        "colab": {
          "base_uri": "https://localhost:8080/"
        },
        "outputId": "6cb5ebae-ad8f-4b2b-8155-a80b9657621c"
      },
      "source": [
        "with tf.device('/device:GPU:0'):\r\n",
        "    convert_to_frames(original_val_dir, processed_val_dir)"
      ],
      "execution_count": null,
      "outputs": [
        {
          "output_type": "stream",
          "text": [
            "100%|██████████| 10/10 [01:20<00:00,  8.06s/it]\n",
            "100%|██████████| 10/10 [00:47<00:00,  4.74s/it]\n",
            "100%|██████████| 2/2 [02:08<00:00, 64.00s/it]\n"
          ],
          "name": "stderr"
        }
      ]
    },
    {
      "cell_type": "markdown",
      "metadata": {
        "id": "WGgaCKJM-ssP"
      },
      "source": [
        "# Preprocessing"
      ]
    },
    {
      "cell_type": "code",
      "metadata": {
        "id": "J1sGyGgv-uQn"
      },
      "source": [
        "# lalalal"
      ],
      "execution_count": null,
      "outputs": []
    },
    {
      "cell_type": "markdown",
      "metadata": {
        "id": "3PjHXArg-qNm"
      },
      "source": [
        "# Model"
      ]
    },
    {
      "cell_type": "markdown",
      "metadata": {
        "id": "G5qQdjfjq6Y3"
      },
      "source": [
        "## Some global variables"
      ]
    },
    {
      "cell_type": "code",
      "metadata": {
        "id": "x0jFsPhSq_3p"
      },
      "source": [
        "image_size = (128, 128)\r\n",
        "\r\n",
        "label_to_int = {\r\n",
        "    'Fight': 1,\r\n",
        "    'NonFight': 0\r\n",
        "}\r\n",
        "\r\n",
        "batch_size = 2"
      ],
      "execution_count": null,
      "outputs": []
    },
    {
      "cell_type": "markdown",
      "metadata": {
        "id": "O1b5E8sDU7f6"
      },
      "source": [
        "## Training and validation generator"
      ]
    },
    {
      "cell_type": "code",
      "metadata": {
        "id": "keaYaQdWU-G3"
      },
      "source": [
        "def preprocess(img):\r\n",
        "    img = cv2.resize(img, image_size)\r\n",
        "    img = cv2.cvtColor(img, cv2.COLOR_BGR2GRAY)\r\n",
        "    img = img / 255.0\r\n",
        "\r\n",
        "    temp = img\r\n",
        "    img = []\r\n",
        "    for r in range(len(temp)):\r\n",
        "        cur_row = []\r\n",
        "        for c in range(len(temp[r])):\r\n",
        "            cur_row.append([temp[r][c]])\r\n",
        "        img.append(cur_row)\r\n",
        "    img = np.array(img)\r\n",
        "\r\n",
        "    return img\r\n",
        "\r\n",
        "\r\n",
        "def get_data(batch_size, processed_dir):\r\n",
        "    data = []\r\n",
        "    batch = []\r\n",
        "\r\n",
        "    categories = os.listdir(processed_dir)\r\n",
        "\r\n",
        "    for category in categories:\r\n",
        "        videos = os.listdir(os.path.join(processed_dir, category))\r\n",
        "\r\n",
        "        for video in videos:\r\n",
        "            video_folder_path = os.path.join(processed_dir, category, video)\r\n",
        "            batch.append([video_folder_path, label_to_int.get(category)])\r\n",
        "\r\n",
        "            # If batch size is not a multiple of total number of videos, it will not return it since the if condition will never be satisfied\r\n",
        "            if len(batch) == batch_size:\r\n",
        "                data.append(batch)\r\n",
        "                batch = []\r\n",
        "\r\n",
        "    return data\r\n",
        "\r\n",
        "\r\n",
        "def data_generator(data):\r\n",
        "    for batch in data:\r\n",
        "        x_set = []\r\n",
        "        y_set = []\r\n",
        "\r\n",
        "        for video, category in batch:\r\n",
        "            current_video = []\r\n",
        "\r\n",
        "            frames = os.listdir(video)\r\n",
        "            for frame in frames:\r\n",
        "                frame_path = os.path.join(video, frame)\r\n",
        "                img = cv2.imread(frame_path)\r\n",
        "                img = preprocess(img)\r\n",
        "\r\n",
        "                current_video.append(img)\r\n",
        "\r\n",
        "            x_set.append(current_video)\r\n",
        "            y_set.append([category])\r\n",
        "\r\n",
        "        x_set = np.array(x_set)\r\n",
        "        y_set = np.array(y_set)\r\n",
        "\r\n",
        "        yield (x_set, y_set)"
      ],
      "execution_count": null,
      "outputs": []
    },
    {
      "cell_type": "markdown",
      "metadata": {
        "id": "vzZLA12iXgaU"
      },
      "source": [
        "# **DO NOT BATCH THE VALIDATION DATA**"
      ]
    },
    {
      "cell_type": "code",
      "metadata": {
        "id": "YHmAfhZk7Jlq"
      },
      "source": [
        "train_data = get_data(batch_size, processed_train_dir)\r\n",
        "val_data = get_data(1, processed_val_dir)"
      ],
      "execution_count": null,
      "outputs": []
    },
    {
      "cell_type": "markdown",
      "metadata": {
        "id": "05EB_MgX1DOM"
      },
      "source": [
        "# Model"
      ]
    },
    {
      "cell_type": "markdown",
      "metadata": {
        "id": "FO1sWx851L3t"
      },
      "source": [
        "## Imports"
      ]
    },
    {
      "cell_type": "code",
      "metadata": {
        "colab": {
          "base_uri": "https://localhost:8080/"
        },
        "id": "3mvFmmV3D451",
        "outputId": "1473e782-2828-4866-d586-dbd1632340d8"
      },
      "source": [
        "!pip install tensorflow_addons"
      ],
      "execution_count": null,
      "outputs": [
        {
          "output_type": "stream",
          "text": [
            "Collecting tensorflow_addons\n",
            "\u001b[?25l  Downloading https://files.pythonhosted.org/packages/2e/af/0ce633c373d2b0476ef8299673d22275fcc3c5ba283b2cec4aa06bc5b810/tensorflow_addons-0.12.1-cp36-cp36m-manylinux2010_x86_64.whl (703kB)\n",
            "\r\u001b[K     |▌                               | 10kB 25.4MB/s eta 0:00:01\r\u001b[K     |█                               | 20kB 32.3MB/s eta 0:00:01\r\u001b[K     |█▍                              | 30kB 24.9MB/s eta 0:00:01\r\u001b[K     |█▉                              | 40kB 22.3MB/s eta 0:00:01\r\u001b[K     |██▎                             | 51kB 22.4MB/s eta 0:00:01\r\u001b[K     |██▉                             | 61kB 16.7MB/s eta 0:00:01\r\u001b[K     |███▎                            | 71kB 16.3MB/s eta 0:00:01\r\u001b[K     |███▊                            | 81kB 15.7MB/s eta 0:00:01\r\u001b[K     |████▏                           | 92kB 15.7MB/s eta 0:00:01\r\u001b[K     |████▋                           | 102kB 16.2MB/s eta 0:00:01\r\u001b[K     |█████▏                          | 112kB 16.2MB/s eta 0:00:01\r\u001b[K     |█████▋                          | 122kB 16.2MB/s eta 0:00:01\r\u001b[K     |██████                          | 133kB 16.2MB/s eta 0:00:01\r\u001b[K     |██████▌                         | 143kB 16.2MB/s eta 0:00:01\r\u001b[K     |███████                         | 153kB 16.2MB/s eta 0:00:01\r\u001b[K     |███████▌                        | 163kB 16.2MB/s eta 0:00:01\r\u001b[K     |████████                        | 174kB 16.2MB/s eta 0:00:01\r\u001b[K     |████████▍                       | 184kB 16.2MB/s eta 0:00:01\r\u001b[K     |████████▉                       | 194kB 16.2MB/s eta 0:00:01\r\u001b[K     |█████████▎                      | 204kB 16.2MB/s eta 0:00:01\r\u001b[K     |█████████▉                      | 215kB 16.2MB/s eta 0:00:01\r\u001b[K     |██████████▎                     | 225kB 16.2MB/s eta 0:00:01\r\u001b[K     |██████████▊                     | 235kB 16.2MB/s eta 0:00:01\r\u001b[K     |███████████▏                    | 245kB 16.2MB/s eta 0:00:01\r\u001b[K     |███████████▋                    | 256kB 16.2MB/s eta 0:00:01\r\u001b[K     |████████████▏                   | 266kB 16.2MB/s eta 0:00:01\r\u001b[K     |████████████▋                   | 276kB 16.2MB/s eta 0:00:01\r\u001b[K     |█████████████                   | 286kB 16.2MB/s eta 0:00:01\r\u001b[K     |█████████████▌                  | 296kB 16.2MB/s eta 0:00:01\r\u001b[K     |██████████████                  | 307kB 16.2MB/s eta 0:00:01\r\u001b[K     |██████████████▍                 | 317kB 16.2MB/s eta 0:00:01\r\u001b[K     |███████████████                 | 327kB 16.2MB/s eta 0:00:01\r\u001b[K     |███████████████▍                | 337kB 16.2MB/s eta 0:00:01\r\u001b[K     |███████████████▉                | 348kB 16.2MB/s eta 0:00:01\r\u001b[K     |████████████████▎               | 358kB 16.2MB/s eta 0:00:01\r\u001b[K     |████████████████▊               | 368kB 16.2MB/s eta 0:00:01\r\u001b[K     |█████████████████▎              | 378kB 16.2MB/s eta 0:00:01\r\u001b[K     |█████████████████▊              | 389kB 16.2MB/s eta 0:00:01\r\u001b[K     |██████████████████▏             | 399kB 16.2MB/s eta 0:00:01\r\u001b[K     |██████████████████▋             | 409kB 16.2MB/s eta 0:00:01\r\u001b[K     |███████████████████             | 419kB 16.2MB/s eta 0:00:01\r\u001b[K     |███████████████████▋            | 430kB 16.2MB/s eta 0:00:01\r\u001b[K     |████████████████████            | 440kB 16.2MB/s eta 0:00:01\r\u001b[K     |████████████████████▌           | 450kB 16.2MB/s eta 0:00:01\r\u001b[K     |█████████████████████           | 460kB 16.2MB/s eta 0:00:01\r\u001b[K     |█████████████████████▍          | 471kB 16.2MB/s eta 0:00:01\r\u001b[K     |██████████████████████          | 481kB 16.2MB/s eta 0:00:01\r\u001b[K     |██████████████████████▍         | 491kB 16.2MB/s eta 0:00:01\r\u001b[K     |██████████████████████▉         | 501kB 16.2MB/s eta 0:00:01\r\u001b[K     |███████████████████████▎        | 512kB 16.2MB/s eta 0:00:01\r\u001b[K     |███████████████████████▊        | 522kB 16.2MB/s eta 0:00:01\r\u001b[K     |████████████████████████▎       | 532kB 16.2MB/s eta 0:00:01\r\u001b[K     |████████████████████████▊       | 542kB 16.2MB/s eta 0:00:01\r\u001b[K     |█████████████████████████▏      | 552kB 16.2MB/s eta 0:00:01\r\u001b[K     |█████████████████████████▋      | 563kB 16.2MB/s eta 0:00:01\r\u001b[K     |██████████████████████████      | 573kB 16.2MB/s eta 0:00:01\r\u001b[K     |██████████████████████████▋     | 583kB 16.2MB/s eta 0:00:01\r\u001b[K     |███████████████████████████     | 593kB 16.2MB/s eta 0:00:01\r\u001b[K     |███████████████████████████▌    | 604kB 16.2MB/s eta 0:00:01\r\u001b[K     |████████████████████████████    | 614kB 16.2MB/s eta 0:00:01\r\u001b[K     |████████████████████████████▍   | 624kB 16.2MB/s eta 0:00:01\r\u001b[K     |████████████████████████████▉   | 634kB 16.2MB/s eta 0:00:01\r\u001b[K     |█████████████████████████████▍  | 645kB 16.2MB/s eta 0:00:01\r\u001b[K     |█████████████████████████████▉  | 655kB 16.2MB/s eta 0:00:01\r\u001b[K     |██████████████████████████████▎ | 665kB 16.2MB/s eta 0:00:01\r\u001b[K     |██████████████████████████████▊ | 675kB 16.2MB/s eta 0:00:01\r\u001b[K     |███████████████████████████████▏| 686kB 16.2MB/s eta 0:00:01\r\u001b[K     |███████████████████████████████▊| 696kB 16.2MB/s eta 0:00:01\r\u001b[K     |████████████████████████████████| 706kB 16.2MB/s \n",
            "\u001b[?25hRequirement already satisfied: typeguard>=2.7 in /usr/local/lib/python3.6/dist-packages (from tensorflow_addons) (2.7.1)\n",
            "Installing collected packages: tensorflow-addons\n",
            "Successfully installed tensorflow-addons-0.12.1\n"
          ],
          "name": "stdout"
        }
      ]
    },
    {
      "cell_type": "code",
      "metadata": {
        "id": "q-q4-Usr1EyH"
      },
      "source": [
        "from tensorflow.keras import layers\r\n",
        "import numpy as np\r\n",
        "from keras.layers import TimeDistributed, Conv2D, Dense, MaxPooling2D, \\\r\n",
        "Flatten, LSTM, Dropout, BatchNormalization\r\n",
        "from keras import models\r\n",
        "import itertools\r\n",
        "\r\n",
        "import keras\r\n",
        "from keras import optimizers\r\n",
        "import tensorflow_addons as tfa"
      ],
      "execution_count": null,
      "outputs": []
    },
    {
      "cell_type": "markdown",
      "metadata": {
        "id": "TtKbgwky1OP5"
      },
      "source": [
        "## Architecture"
      ]
    },
    {
      "cell_type": "code",
      "metadata": {
        "id": "FJ7GwVbU7GWl"
      },
      "source": [
        "input_shape = (30, image_size[0], image_size[1], 1)\r\n",
        "num_epochs = 5"
      ],
      "execution_count": null,
      "outputs": []
    },
    {
      "cell_type": "code",
      "metadata": {
        "colab": {
          "base_uri": "https://localhost:8080/"
        },
        "id": "zBjJKLNv1N3E",
        "outputId": "8a950c70-1931-4520-fed1-a2617d6be841"
      },
      "source": [
        "model = models.Sequential(\r\n",
        "    [\r\n",
        "        TimeDistributed(\r\n",
        "            Conv2D(64, (3, 3), activation=tf.nn.relu), \r\n",
        "            input_shape=input_shape\r\n",
        "        ),\r\n",
        "        TimeDistributed(MaxPooling2D((2, 2), strides=(1, 1))),\r\n",
        "        TimeDistributed(Conv2D(128, (4, 4), activation=tf.nn.relu)),\r\n",
        "        TimeDistributed(MaxPooling2D((2, 2), strides=(2, 2))),\r\n",
        "        TimeDistributed(Conv2D(256, (4, 4), activation=tf.nn.relu)),\r\n",
        "        TimeDistributed(MaxPooling2D((2, 2), strides=(2, 2))),\r\n",
        "        TimeDistributed(Flatten()),\r\n",
        "        Dropout(0.5),\r\n",
        "        LSTM(256, return_sequences=False, dropout=0.5, input_shape=input_shape),\r\n",
        "        Dense(1, activation=tf.nn.sigmoid)\r\n",
        "    ]\r\n",
        ")\r\n",
        "\r\n",
        "model.summary()"
      ],
      "execution_count": null,
      "outputs": [
        {
          "output_type": "stream",
          "text": [
            "Model: \"sequential_3\"\n",
            "_________________________________________________________________\n",
            "Layer (type)                 Output Shape              Param #   \n",
            "=================================================================\n",
            "time_distributed_21 (TimeDis (None, 30, 126, 126, 64)  640       \n",
            "_________________________________________________________________\n",
            "time_distributed_22 (TimeDis (None, 30, 125, 125, 64)  0         \n",
            "_________________________________________________________________\n",
            "time_distributed_23 (TimeDis (None, 30, 122, 122, 128) 131200    \n",
            "_________________________________________________________________\n",
            "time_distributed_24 (TimeDis (None, 30, 61, 61, 128)   0         \n",
            "_________________________________________________________________\n",
            "time_distributed_25 (TimeDis (None, 30, 58, 58, 256)   524544    \n",
            "_________________________________________________________________\n",
            "time_distributed_26 (TimeDis (None, 30, 29, 29, 256)   0         \n",
            "_________________________________________________________________\n",
            "time_distributed_27 (TimeDis (None, 30, 215296)        0         \n",
            "_________________________________________________________________\n",
            "dropout_3 (Dropout)          (None, 30, 215296)        0         \n",
            "_________________________________________________________________\n",
            "lstm_3 (LSTM)                (None, 256)               220726272 \n",
            "_________________________________________________________________\n",
            "dense_3 (Dense)              (None, 1)                 257       \n",
            "=================================================================\n",
            "Total params: 221,382,913\n",
            "Trainable params: 221,382,913\n",
            "Non-trainable params: 0\n",
            "_________________________________________________________________\n"
          ],
          "name": "stdout"
        }
      ]
    },
    {
      "cell_type": "code",
      "metadata": {
        "id": "0clynKRzJ887"
      },
      "source": [
        "gennifer_engineering_trainee = data_generator(train_data)\r\n",
        "gennifer_engineering_vallee = data_generator(val_data)\r\n",
        "\r\n",
        "# gennifer_engineering_trainee = itertools.cycle(gennifer_engineering_trainee)\r\n",
        "# gennifer_engineering_vallee = itertools.cycle(gennifer_engineering_vallee)"
      ],
      "execution_count": null,
      "outputs": []
    },
    {
      "cell_type": "code",
      "metadata": {
        "id": "keH32jHI8G5V",
        "colab": {
          "base_uri": "https://localhost:8080/"
        },
        "outputId": "3f29cdd4-9cec-444d-ee49-9957a900e0f7"
      },
      "source": [
        "print('Training Data')\r\n",
        "X, y = next(gennifer_engineering_trainee)\r\n",
        "print(len(train_data))\r\n",
        "print(X.shape, y.shape)\r\n",
        "\r\n",
        "print('Validation Data')\r\n",
        "X, y = next(gennifer_engineering_vallee)\r\n",
        "print(len(val_data))\r\n",
        "print(X.shape, y.shape)"
      ],
      "execution_count": null,
      "outputs": [
        {
          "output_type": "stream",
          "text": [
            "Training Data\n",
            "YEET 1\n",
            "20\n",
            "(2, 30, 128, 128, 1) (2, 1)\n",
            "Validation Data\n",
            "YEET 2\n",
            "10\n",
            "(2, 30, 128, 128, 1) (2, 1)\n"
          ],
          "name": "stdout"
        }
      ]
    },
    {
      "cell_type": "code",
      "metadata": {
        "id": "9imCNzga7E17"
      },
      "source": [
        "tqdm_callback = tfa.callbacks.TQDMProgressBar()\r\n",
        "model_path = 'cnn_lstm_model.h5'\r\n",
        "\r\n",
        "callbacks_list = [\r\n",
        "    # tqdm_callback,\r\n",
        "    # keras.callbacks.EarlyStopping(monitor=['acc'], patience=3),\r\n",
        "    # keras.callbacks.ModelCheckpoint(\r\n",
        "    #     filepath=model_path,\r\n",
        "    #     monitor='val_loss',\r\n",
        "    #     save_best_only=True\r\n",
        "    # ),\r\n",
        "    # keras.callbacks.ReduceLROnPlateau(\r\n",
        "    #     monitor=\"val_loss\",\r\n",
        "    #     factor=0.1,\r\n",
        "    #     patience=3\r\n",
        "    # )\r\n",
        "]\r\n",
        "\r\n",
        "optimizer=optimizers.RMSprop(lr=0.06)\r\n",
        "model.compile(optimizer=optimizer, loss='binary_crossentropy', metrics=['acc'])"
      ],
      "execution_count": null,
      "outputs": []
    },
    {
      "cell_type": "code",
      "metadata": {
        "colab": {
          "base_uri": "https://localhost:8080/"
        },
        "id": "otWXgZaD8MqK",
        "outputId": "9808149c-60d0-4421-fded-ddb7f462907a"
      },
      "source": [
        "with tf.device('/device:GPU:0'):\r\n",
        "    history = model.fit(\r\n",
        "        gennifer_engineering_trainee,\r\n",
        "        steps_per_epoch=4,\r\n",
        "        validation_data=gennifer_engineering_vallee,\r\n",
        "        validation_steps=2,\r\n",
        "        validation_batch_size=batch_size,\r\n",
        "        epochs=num_epochs,\r\n",
        "        callbacks=callbacks_list,\r\n",
        "        batch_size=batch_size\r\n",
        "    )"
      ],
      "execution_count": null,
      "outputs": [
        {
          "output_type": "stream",
          "text": [
            "Epoch 1/5\n",
            "4/4 [==============================] - 15s 4s/step - loss: 0.3137 - acc: 1.0000 - val_loss: 24.3856 - val_acc: 0.0000e+00\n",
            "Epoch 2/5\n",
            "4/4 [==============================] - 13s 4s/step - loss: 2.7377e-11 - acc: 1.0000 - val_loss: 24.3856 - val_acc: 0.0000e+00\n",
            "Epoch 3/5\n",
            "4/4 [==============================] - 13s 4s/step - loss: 4.5794 - acc: 0.7333 - val_loss: 1.6051e-04 - val_acc: 1.0000\n",
            "Epoch 4/5\n",
            "4/4 [==============================] - 13s 4s/step - loss: 1.1281e-04 - acc: 1.0000 - val_loss: 4.3722 - val_acc: 0.5000\n",
            "Epoch 5/5\n",
            "4/4 [==============================] - 11s 4s/step - loss: 1.0792e-04 - acc: 1.0000 - val_loss: 8.7526 - val_acc: 0.0000e+00\n"
          ],
          "name": "stdout"
        }
      ]
    },
    {
      "cell_type": "markdown",
      "metadata": {
        "id": "bMnwkfzvIbZY"
      },
      "source": [
        "```\r\n",
        "total_number_of_videos = batch_size * (steps_per_epoch * epochs)\r\n",
        "\r\n",
        "number_of_batches = total_number_of_videos / batch_size\r\n",
        "```"
      ]
    },
    {
      "cell_type": "code",
      "metadata": {
        "colab": {
          "base_uri": "https://localhost:8080/",
          "height": 499
        },
        "id": "LnRMUSeENeFK",
        "outputId": "69b04cdf-e105-4436-e10d-66f8b7ee044b"
      },
      "source": [
        "acc = history.history['acc']\r\n",
        "loss = history.history['loss']\r\n",
        "\r\n",
        "epochs_range = range(num_epochs)\r\n",
        "\r\n",
        "plt.figure(figsize=(8, 8))\r\n",
        "plt.subplot(1, 2, 1)\r\n",
        "plt.plot(epochs_range, acc, label='Training Accuracy')\r\n",
        "plt.plot(epochs_range, acc, label='Validation Accuracy')\r\n",
        "\r\n",
        "plt.legend(loc='lower right')\r\n",
        "plt.title('Training & Validation Accuracy')\r\n",
        "\r\n",
        "plt.subplot(1, 2, 2)\r\n",
        "plt.plot(epochs_range, loss, label='Training Loss')\r\n",
        "plt.plot(epochs_range, loss, label='Validation Loss')\r\n",
        "\r\n",
        "plt.legend(loc='upper right')\r\n",
        "plt.title('Training & Validation Loss')\r\n",
        "plt.show()"
      ],
      "execution_count": null,
      "outputs": [
        {
          "output_type": "display_data",
          "data": {
            "image/png": "[encoded data removed]",
            "text/plain": [
              "<Figure size 576x576 with 2 Axes>"
            ]
          },
          "metadata": {
            "tags": [],
            "needs_background": "light"
          }
        }
      ]
    }
  ]
}