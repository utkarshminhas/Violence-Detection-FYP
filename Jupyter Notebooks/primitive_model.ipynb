{
  "nbformat": 4,
  "nbformat_minor": 0,
  "metadata": {
    "colab": {
      "name": "primitive_model.ipynb",
      "provenance": [],
      "include_colab_link": true
    },
    "kernelspec": {
      "name": "python3",
      "display_name": "Python 3"
    }
  },
  "cells": [
    {
      "cell_type": "markdown",
      "metadata": {
        "id": "view-in-github",
        "colab_type": "text"
      },
      "source": [
        "<a href=\"https://colab.research.google.com/github/utkarshminhas/Violence-Detection-FYP/blob/main/Jupyter%20Notebooks/primitive_model.ipynb\" target=\"_parent\"><img src=\"https://colab.research.google.com/assets/colab-badge.svg\" alt=\"Open In Colab\"/></a>"
      ]
    },
    {
      "cell_type": "code",
      "metadata": {
        "id": "VuG2VvM7_eEC"
      },
      "source": [
        "# import cv2     # for capturing videos\n",
        "# import math   # for mathematical operations\n",
        "# import matplotlib.pyplot as plt    # for plotting the images\n",
        "# %matplotlib inline\n",
        "# import pandas as pd\n",
        "# from keras.preprocessing import image   # for preprocessing the images\n",
        "# import numpy as np    # for mathematical operations\n",
        "# from keras.utils import np_utils\n",
        "# from skimage.transform import resize   # for resizing images\n",
        "# from sklearn.model_selection import train_test_split\n",
        "# from glob import glob\n",
        "# from tqdm import tqdm"
      ],
      "execution_count": null,
      "outputs": []
    },
    {
      "cell_type": "code",
      "metadata": {
        "id": "xZ10DcZgLJrc",
        "outputId": "8acb6fe5-cad2-4621-9405-1b5de1745e06",
        "colab": {
          "base_uri": "https://localhost:8080/"
        }
      },
      "source": [
        "!git clone https://github.com/utkarshminhas/Violence-Detection-FYP.git"
      ],
      "execution_count": 1,
      "outputs": [
        {
          "output_type": "stream",
          "text": [
            "Cloning into 'Violence-Detection-FYP'...\n",
            "remote: Enumerating objects: 88, done.\u001b[K\n",
            "remote: Counting objects: 100% (88/88), done.\u001b[K\n",
            "remote: Compressing objects: 100% (57/57), done.\u001b[K\n",
            "remote: Total 88 (delta 27), reused 65 (delta 13), pack-reused 0\u001b[K\n",
            "Unpacking objects: 100% (88/88), done.\n"
          ],
          "name": "stdout"
        }
      ]
    },
    {
      "cell_type": "code",
      "metadata": {
        "id": "znwTJ6wQLIIN",
        "outputId": "b3916782-76e6-480a-a572-fe0bf4e36d08",
        "colab": {
          "base_uri": "https://localhost:8080/"
        }
      },
      "source": [
        "from google.colab import drive\r\n",
        "drive.mount('/content/drive')"
      ],
      "execution_count": 2,
      "outputs": [
        {
          "output_type": "stream",
          "text": [
            "Mounted at /content/drive\n"
          ],
          "name": "stdout"
        }
      ]
    },
    {
      "cell_type": "code",
      "metadata": {
        "id": "9lJ-92BtNXFA",
        "outputId": "638814a7-cdb5-4ece-d0a3-d036bde4332f",
        "colab": {
          "base_uri": "https://localhost:8080/"
        }
      },
      "source": [
        "!ls '/content/drive'\r\n",
        "# print()\r\n",
        "# !ls '/content/drive/Shareddrives/Final Year Project/'\r\n",
        "print()\r\n",
        "!ls '/content/drive/Shareddrives/Final Year Project/Datasets'"
      ],
      "execution_count": 4,
      "outputs": [
        {
          "output_type": "stream",
          "text": [
            "MyDrive  Shareddrives\n",
            "\n",
            " HockeyFights\t Peliculas      RWF-2000\n",
            " Mini-RWF-2000\t Raw-RWF-2000  'Violent Flows Dataset'\n"
          ],
          "name": "stdout"
        }
      ]
    },
    {
      "cell_type": "code",
      "metadata": {
        "id": "F9oFJD7yNxcn"
      },
      "source": [
        "import keras\r\n",
        "from keras import applications\r\n",
        "from keras.preprocessing.image import ImageDataGenerator\r\n",
        "from keras import optimizers\r\n",
        "from keras.models import Sequential, Model \r\n",
        "from keras.layers import *\r\n",
        "from keras.callbacks import ModelCheckpoint, LearningRateScheduler, TensorBoard, EarlyStopping\r\n",
        " \r\n",
        "import os\r\n",
        "import cv2\r\n",
        "import numpy as np\r\n",
        "from sklearn.model_selection import train_test_split\r\n",
        "# import keras_metrics as km\r\n",
        " \r\n",
        " \r\n",
        "from sklearn.metrics import accuracy_score\r\n",
        "from sklearn.metrics import precision_score\r\n",
        "from sklearn.metrics import recall_score\r\n",
        "from sklearn.metrics import f1_score\r\n",
        "from sklearn.metrics import cohen_kappa_score\r\n",
        "from sklearn.metrics import roc_auc_score\r\n",
        "from sklearn.metrics import multilabel_confusion_matrix"
      ],
      "execution_count": 6,
      "outputs": []
    },
    {
      "cell_type": "code",
      "metadata": {
        "id": "0Kk8ShRTOBi7",
        "outputId": "32019633-4442-4b9a-9ea3-daa23ceebf39",
        "colab": {
          "base_uri": "https://localhost:8080/"
        }
      },
      "source": [
        "!ls '/content/drive/Shareddrives/Final Year Project/Datasets/Raw-RWF-2000'\r\n",
        "data_dir = \"/content/drive/Shareddrives/Final Year Project/Datasets/Raw-RWF-2000\"\r\n",
        "img_height , img_width = 64, 64\r\n",
        "seq_len = 70\r\n",
        "classes = [\"Fight\", \"NonFight\"]"
      ],
      "execution_count": 25,
      "outputs": [
        {
          "output_type": "stream",
          "text": [
            "Fight  NonFight\n"
          ],
          "name": "stdout"
        }
      ]
    },
    {
      "cell_type": "code",
      "metadata": {
        "id": "T8JpLHaWOcu8"
      },
      "source": [
        "def frames_extraction(video_path):\r\n",
        "    frames_list = []\r\n",
        "     \r\n",
        "    vidObj = cv2.VideoCapture(video_path)\r\n",
        "    # Used as counter variable \r\n",
        "    count = 1\r\n",
        " \r\n",
        "    while count <= seq_len: \r\n",
        "         \r\n",
        "        success, image = vidObj.read() \r\n",
        "        if success:\r\n",
        "            image = cv2.resize(image, (img_height, img_width))\r\n",
        "            frames_list.append(image)\r\n",
        "            count += 1\r\n",
        "        else:\r\n",
        "            print(\"Defected frame\")\r\n",
        "            break\r\n",
        " \r\n",
        "            \r\n",
        "    return frames_list"
      ],
      "execution_count": 26,
      "outputs": []
    },
    {
      "cell_type": "code",
      "metadata": {
        "id": "nE5d-W27O9rT"
      },
      "source": [
        "def create_data(input_dir):\r\n",
        "    X = []\r\n",
        "    Y = []\r\n",
        "     \r\n",
        "    classes_list = os.listdir(input_dir)\r\n",
        "     \r\n",
        "    for c in classes_list:\r\n",
        "        print(c)\r\n",
        "        files_list = os.listdir(os.path.join(input_dir, c))\r\n",
        "        for f in files_list:\r\n",
        "           frames = frames_extraction(os.path.join(os.path.join(input_dir, c), f))\r\n",
        "           if len(frames) == seq_len:\r\n",
        "                X.append(frames)\r\n",
        "             \r\n",
        "                y = [0]*len(classes)\r\n",
        "                y[classes.index(c)] = 1\r\n",
        "                Y.append(y)\r\n",
        "     \r\n",
        "    X = np.asarray(X)\r\n",
        "    Y = np.asarray(Y)\r\n",
        "    return X, Y"
      ],
      "execution_count": 27,
      "outputs": []
    },
    {
      "cell_type": "code",
      "metadata": {
        "id": "PbzLsvymPOPe",
        "outputId": "b42d5e6c-1327-4934-de95-f9898bce74be",
        "colab": {
          "base_uri": "https://localhost:8080/"
        }
      },
      "source": [
        "X, Y = create_data(data_dir)\r\n",
        " \r\n",
        "# X_train, X_test, y_train, y_test = train_test_split(X, Y, test_size=0.20, shuffle=True, random_state=0)\r\n"
      ],
      "execution_count": null,
      "outputs": [
        {
          "output_type": "stream",
          "text": [
            "Fight\n",
            "NonFight\n"
          ],
          "name": "stdout"
        }
      ]
    }
  ]
}